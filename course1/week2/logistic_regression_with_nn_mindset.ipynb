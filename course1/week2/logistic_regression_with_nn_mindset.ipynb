{
  "nbformat": 4,
  "nbformat_minor": 0,
  "metadata": {
    "colab": {
      "name": "logistic_regression_with_nn_mindset.ipynb",
      "provenance": [],
      "collapsed_sections": [],
      "mount_file_id": "1z2ZP3xqeB_jjt5_ijlyVJSIRS6-cZuq2",
      "authorship_tag": "ABX9TyPdp46sXLLjoOJSAMRyCjDj",
      "include_colab_link": true
    },
    "kernelspec": {
      "name": "python3",
      "display_name": "Python 3"
    }
  },
  "cells": [
    {
      "cell_type": "markdown",
      "metadata": {
        "id": "view-in-github",
        "colab_type": "text"
      },
      "source": [
        "<a href=\"https://colab.research.google.com/github/pranavkantgaur/Coursera_DL_specialization_from_scratch/blob/master/course1/week2/logistic_regression_with_nn_mindset.ipynb\" target=\"_parent\"><img src=\"https://colab.research.google.com/assets/colab-badge.svg\" alt=\"Open In Colab\"/></a>"
      ]
    },
    {
      "cell_type": "code",
      "metadata": {
        "id": "FZ5YZ2gY8y49",
        "colab_type": "code",
        "outputId": "159b656f-28f8-41b7-fcac-a84421d8350a",
        "colab": {
          "base_uri": "https://localhost:8080/",
          "height": 34
        }
      },
      "source": [
        "from google.colab import drive\n",
        "drive.mount('/content/drive')"
      ],
      "execution_count": 1,
      "outputs": [
        {
          "output_type": "stream",
          "text": [
            "Drive already mounted at /content/drive; to attempt to forcibly remount, call drive.mount(\"/content/drive\", force_remount=True).\n"
          ],
          "name": "stdout"
        }
      ]
    },
    {
      "cell_type": "code",
      "metadata": {
        "id": "1qoA9qFTtRWs",
        "colab_type": "code",
        "colab": {}
      },
      "source": [
        "import numpy as np # linear algenbra\n",
        "import matplotlib.pyplot as plt # plotting\n",
        "import h5py # data loading for hdf5 dataset\n",
        "from PIL import Image # for loading your images for processing\n",
        "from scipy import ndimage \n",
        "#from lr_utils import load_dataset"
      ],
      "execution_count": 0,
      "outputs": []
    },
    {
      "cell_type": "code",
      "metadata": {
        "id": "IQhWjN4N82NH",
        "colab_type": "code",
        "outputId": "964d2eb0-6139-49b7-a727-802eefe802ef",
        "colab": {
          "base_uri": "https://localhost:8080/",
          "height": 34
        }
      },
      "source": [
        "!ls"
      ],
      "execution_count": 3,
      "outputs": [
        {
          "output_type": "stream",
          "text": [
            "drive  sample_data\n"
          ],
          "name": "stdout"
        }
      ]
    },
    {
      "cell_type": "markdown",
      "metadata": {
        "id": "p0qdb183zyTs",
        "colab_type": "text"
      },
      "source": [
        "## Problem statement\n",
        "a training set of m_train images, labeled as cat (y =1) or not-cat (y = 0).\n",
        "a test set of m_test_images\n",
        "each image is of shape (num_px, num_px, 3), RGB channels \n"
      ]
    },
    {
      "cell_type": "code",
      "metadata": {
        "id": "lM4n7arh2ubw",
        "colab_type": "code",
        "colab": {}
      },
      "source": [
        "# implementing utility function for loading cat vs non-cat datasets\n",
        "def load_dataset():\n",
        "  train_dataset = h5py.File('datasets/train_catvnoncat.h5', \"r\")\n",
        "  test_dataset = h5py.File('datasets/test_catvnoncat.h5', \"r\")\n",
        "  train_set_x = np.array(train_dataset[\"train_set_x\"][:])\n",
        "  train_set_y = np.array(train_dataset[\"train_set_y\"][:])\n",
        "  test_set_x  = np.array(test_dataset[\"test_set_x\"][:])\n",
        "  test_set_y = np.array(test_dataset[\"test_set_y\"][:])\n",
        "  classes = np.array(train_dataset[\"list_classes\"][:])\n",
        "\n",
        "  # lets reshape the arrays\n",
        "  train_set_y = train_set_y.reshape((1, train_set_y.shape[0]))\n",
        "  test_set_y = test_set_y.reshape((1, test_set_y.shape[0]))\n",
        "\n",
        "  return train_set_x, train_set_y, test_set_x, test_set_y, classes"
      ],
      "execution_count": 0,
      "outputs": []
    },
    {
      "cell_type": "code",
      "metadata": {
        "id": "ArWwvFhs0ZvI",
        "colab_type": "code",
        "colab": {}
      },
      "source": [
        "# load training dataset\n",
        "x_train_images, y_train_images, x_test_images, y_test_images, classes = load_dataset()\n",
        "# x_train_images: (m, nx, ny, nc)\n",
        "# y_train_images: (1, m)"
      ],
      "execution_count": 0,
      "outputs": []
    },
    {
      "cell_type": "code",
      "metadata": {
        "id": "zrBAKBJWBQZ3",
        "colab_type": "code",
        "outputId": "39d52db4-9c14-425b-a43e-68067fb06bb6",
        "colab": {
          "base_uri": "https://localhost:8080/",
          "height": 285
        }
      },
      "source": [
        "# lets inspect the dataset\n",
        "image_id = 25\n",
        "plt.imshow(x_train_images[image_id])\n",
        "print(\"y = \", y_train_images[0][image_id], \"Its a \" + classes[y_train_images[0][image_id]].decode(\"utf-8\") + \" picture!!\")"
      ],
      "execution_count": 6,
      "outputs": [
        {
          "output_type": "stream",
          "text": [
            "y =  1 Its a cat picture!!\n"
          ],
          "name": "stdout"
        },
        {
          "output_type": "display_data",
          "data": {
            "image/png": "[encoded data removed]",
            "text/plain": [
              "<Figure size 432x288 with 1 Axes>"
            ]
          },
          "metadata": {
            "tags": []
          }
        }
      ]
    },
    {
      "cell_type": "code",
      "metadata": {
        "id": "BCKChIqAEasY",
        "colab_type": "code",
        "outputId": "347451ff-1c6f-4fdc-9e23-23cb9f0ebddf",
        "colab": {
          "base_uri": "https://localhost:8080/",
          "height": 104
        }
      },
      "source": [
        "# lets inspect the shapes of the dataset arrays\n",
        "print(\"Training set shape: \", x_train_images.shape) #  m, nx, ny, nc\n",
        "print(\"Training set labels shape: \", y_train_images.shape) # 1, m\n",
        "print(\"Test set shape: \", x_test_images.shape)\n",
        "print(\"Test set labels shape: \", y_test_images.shape)\n",
        "print(\"Each image is of shape: \", x_train_images[0].shape)"
      ],
      "execution_count": 7,
      "outputs": [
        {
          "output_type": "stream",
          "text": [
            "Training set shape:  (209, 64, 64, 3)\n",
            "Training set labels shape:  (1, 209)\n",
            "Test set shape:  (50, 64, 64, 3)\n",
            "Test set labels shape:  (1, 50)\n",
            "Each image is of shape:  (64, 64, 3)\n"
          ],
          "name": "stdout"
        }
      ]
    },
    {
      "cell_type": "code",
      "metadata": {
        "id": "I9JaxwWHGU9M",
        "colab_type": "code",
        "outputId": "e28e0b8d-a3b5-4d0c-b382-d14452b15100",
        "colab": {
          "base_uri": "https://localhost:8080/",
          "height": 104
        }
      },
      "source": [
        "# Lets flatten the train and test image dataset for training\n",
        "x_train_images_flattened = x_train_images.reshape((x_train_images.shape[0], x_train_images.shape[1] * \n",
        "                                                   x_train_images.shape[2] * \n",
        "                                                   x_train_images.shape[3], 1)) \n",
        "x_train_images_flattened = np.squeeze(x_train_images_flattened)\n",
        "x_train_images_flattened = x_train_images_flattened.T\n",
        "x_test_images_flattened = x_test_images.reshape((x_test_images.shape[0], x_train_images.shape[1] * \n",
        "                                                 x_test_images.shape[2] * \n",
        "                                                 x_test_images.shape[3], 1))\n",
        "\n",
        "x_test_images_flattened = np.squeeze(x_test_images_flattened)\n",
        "x_test_images_flattened = x_test_images_flattened.T\n",
        "\n",
        "# lets print\n",
        "print(\"Flattened version of train images: \", x_train_images_flattened.shape)\n",
        "print(\"Label set for training dataset: \", y_train_images.shape)\n",
        "print(\"Flattened version of test images: \", x_test_images_flattened.shape)\n",
        "print(\"Label set for test dataset: \", y_test_images.shape)\n",
        "\n",
        "\n",
        "print(\"Sanity check after reshaping: \", x_train_images_flattened[0:5, 0])"
      ],
      "execution_count": 8,
      "outputs": [
        {
          "output_type": "stream",
          "text": [
            "Flattened version of train images:  (12288, 209)\n",
            "Label set for training dataset:  (1, 209)\n",
            "Flattened version of test images:  (12288, 50)\n",
            "Label set for test dataset:  (1, 50)\n",
            "Sanity check after reshaping:  [17 31 56 22 33]\n"
          ],
          "name": "stdout"
        }
      ]
    },
    {
      "cell_type": "code",
      "metadata": {
        "id": "8Gmt4dlG44u_",
        "colab_type": "code",
        "colab": {}
      },
      "source": [
        "# normalization\n",
        "x_train_images = x_train_images_flattened / 255.0\n",
        "x_test_images = x_test_images_flattened / 255.0"
      ],
      "execution_count": 0,
      "outputs": []
    },
    {
      "cell_type": "markdown",
      "metadata": {
        "id": "GUqz0K1g5LKs",
        "colab_type": "text"
      },
      "source": [
        "## Time to design architecture for Cat vs non-Cat problem\n",
        "A logistic unit(forward calculations):\n",
        "\\begin{equation*}\n",
        "z^{(i)} = w^{T}x^{(i)} + b\n",
        "\\end{equation*}\n",
        "\\begin{equation*}\n",
        "y' = a^{(i)} = sigmoid(z^{(i)})\n",
        "\\end{equation*}\n",
        "\\begin{equation*}\n",
        "L(y'^{(i)}, y^{(i)}) = - y ^{(i)} log(y'^{i}) - (1 - y^{(i)})log(1 - y'^{(i)})\n",
        "\\end{equation*}"
      ]
    },
    {
      "cell_type": "markdown",
      "metadata": {
        "id": "kQ5-uORb7ueP",
        "colab_type": "text"
      },
      "source": [
        "The main steps for building a Neural Network are:\n",
        "\n",
        "    Define the model structure (such as number of input features)\n",
        "    Initialize the model's parameters\n",
        "    Loop:\n",
        "        Calculate current loss (forward propagation)\n",
        "        Calculate current gradient (backward propagation)\n",
        "        Update parameters (gradient descent)\n",
        "\n",
        "You often build 1-3 separately and integrate them into one function we call model()."
      ]
    },
    {
      "cell_type": "code",
      "metadata": {
        "id": "pdIxYStpC59e",
        "colab_type": "code",
        "colab": {}
      },
      "source": [
        "def sigmoid(z):\n",
        "  sigm = 1 / (1 + np.exp(-1.0 * z))\n",
        "  return sigm"
      ],
      "execution_count": 0,
      "outputs": []
    },
    {
      "cell_type": "code",
      "metadata": {
        "id": "Zxlol_oV8MWh",
        "colab_type": "code",
        "outputId": "d8589dfe-082e-4696-e3a4-7d9074d7b662",
        "colab": {
          "base_uri": "https://localhost:8080/",
          "height": 1000
        }
      },
      "source": [
        "# create model class\n",
        "class CatvsNoncatClassifier(object):\n",
        "  def __init__(self, input_size, num_hidden_units = 1):\n",
        "    self.n_hidden_units = num_hidden_units\n",
        "    self.w = np.zeros((self.n_hidden_units, input_size), dtype = 'float32')\n",
        "    self.b = np.zeros((self.n_hidden_units, 1), dtype = 'float32')\n",
        "    self.build_model()\n",
        "  \n",
        "  def build_model(self): # not required here since foward_prop and back_prop will \n",
        "    None                 # do that\n",
        "    \n",
        "   \n",
        "  def initialize_parameters(self, x_shape):\n",
        "    # init w and b\n",
        "    self.w = np.zeros((self.n_hidden_units, x_shape), dtype = 'float32')\n",
        "    self.b = np.zeros((self.n_hidden_units, 1), dtype = 'float32')\n",
        "  \n",
        "  def forward_propogation(self, x):\n",
        "    z = np.dot(self.w, x) + self.b\n",
        "    y_predicted = sigmoid(z)\n",
        "    return y_predicted\n",
        "\n",
        "  def compute_cost(self, y_predicted, y_ground):\n",
        "    \n",
        "    L = -1.0 * np.mean(np.dot(y_ground, np.log(y_predicted).T) + np.dot((1 - y_ground), np.log(1 - y_predicted).T)) # cross entropy loss\n",
        "    #L = np.mean(np.square(np.abs(y_ground - y_predicted))) # mean square loss\n",
        "    return L    \n",
        "\n",
        "  def backward_propogation(self, x, y_predicted, y_ground):\n",
        "    dw = (y_predicted - y_ground) * x.T\n",
        "    db = (y_predicted - y_ground) \n",
        "    #print(\"shape of y_ground: \", y_ground.shape)\n",
        "    #print(\"shape of y_predicted: \", y_predicted.shape)\n",
        "    #print(\"value of dw: \", dw)\n",
        "    #print(\"value of db: \", db)\n",
        "    return dw, db # both are vectors\n",
        "\n",
        "  def update_parameters(self, dw, db, learning_rate):     \n",
        "    self.w = self.w - learning_rate * dw\n",
        "    self.b = self.b - learning_rate * db\n",
        "    \n",
        "    \n",
        "  def train_model(self, x, y_ground, learning_rate = 0.001, n_training_epochs = 10):\n",
        "    self.initialize_parameters(x.shape[0])\n",
        "    \n",
        "    for i in range(n_training_epochs): # no concept of mini-batch yet.\n",
        "      predictions = [] # for collecting predictions across an epoch\n",
        "      ground_truths = []\n",
        "      for j in range(x.shape[1]): # for each training example\n",
        "        x_sample = x[:, j]\n",
        "        x_sample = x_sample.reshape(x_sample.shape[0], 1)\n",
        "        y_sample  = y_ground[:, j]\n",
        "        y_sample = y_sample.reshape(1, y_sample.shape[0])\n",
        "\n",
        "        y_predicted = self.forward_propogation(x_sample) \n",
        " \n",
        "        dw, db = self.backward_propogation(x_sample, y_predicted, y_sample)\n",
        "        self.update_parameters(dw, db, learning_rate)\n",
        "        predictions.append(y_predicted)\n",
        "        ground_truths.append(y_sample)\n",
        "\n",
        "      predictions_array = np.asarray(predictions).reshape(1, len(predictions))\n",
        "      ground_truths_array = np.asarray(ground_truths).reshape(1, len(ground_truths))\n",
        "      print(\"Loss value at epoch: \", i, \" is: \", self.compute_cost(predictions_array, \n",
        "                                                              ground_truths_array))        \n",
        "   \n",
        "  def evaluate_model(self, x_test, y_test):\n",
        "     predictions = []\n",
        "     grounds = []\n",
        "     for i in range(x_test.shape[1]):\n",
        "       y_predicted = self.forward_propogation(x_test[:, i])\n",
        "       predictions.append(y_predicted)\n",
        "       grounds.append(y_test[:, i])\n",
        "     print(\"Accuarcy of the trained model: \", 100 - np.mean(np.abs(np.asarray(predictions).reshape(len(predictions), 1) \n",
        "                                                                  - np.asarray(grounds).reshape(len(grounds), 1)))\n",
        "                                                                  * 100, \"%\")\n",
        "           \n",
        "# main function\n",
        "if __name__ == '__main__':\n",
        "  # data(train and test) has already being loaded and preprocessed\n",
        "  classifier = CatvsNoncatClassifier(num_hidden_units=1, input_size = x_train_images.shape[0])\n",
        "  classifier.train_model(x_train_images, y_train_images, learning_rate = 0.001,\n",
        "                         n_training_epochs = 200)\n",
        "  classifier.evaluate_model(x_test_images, y_test_images)"
      ],
      "execution_count": 76,
      "outputs": [
        {
          "output_type": "stream",
          "text": [
            "Loss value at epoch:  0  is:  172.67465539419584\n",
            "Loss value at epoch:  1  is:  153.07508678339286\n",
            "Loss value at epoch:  2  is:  139.87019120893837\n",
            "Loss value at epoch:  3  is:  129.5436223288432\n",
            "Loss value at epoch:  4  is:  120.89926346821768\n",
            "Loss value at epoch:  5  is:  113.33168851051317\n",
            "Loss value at epoch:  6  is:  106.56085946765333\n",
            "Loss value at epoch:  7  is:  100.47693690754473\n",
            "Loss value at epoch:  8  is:  95.01303113840586\n",
            "Loss value at epoch:  9  is:  90.10431842037471\n",
            "Loss value at epoch:  10  is:  85.6855622233918\n",
            "Loss value at epoch:  11  is:  81.69464724477132\n",
            "Loss value at epoch:  12  is:  78.07500344002648\n",
            "Loss value at epoch:  13  is:  74.77669608260902\n",
            "Loss value at epoch:  14  is:  71.75664815869027\n",
            "Loss value at epoch:  15  is:  68.97830963375307\n",
            "Loss value at epoch:  16  is:  66.41100337166134\n",
            "Loss value at epoch:  17  is:  64.029128163288\n",
            "Loss value at epoch:  18  is:  61.81134503214609\n",
            "Loss value at epoch:  19  is:  59.73982133101082\n",
            "Loss value at epoch:  20  is:  57.79956844962674\n",
            "Loss value at epoch:  21  is:  55.97788444712134\n",
            "Loss value at epoch:  22  is:  54.26389904689342\n",
            "Loss value at epoch:  23  is:  52.64821119591832\n",
            "Loss value at epoch:  24  is:  51.122605999912835\n",
            "Loss value at epoch:  25  is:  49.679836758223786\n",
            "Loss value at epoch:  26  is:  48.31345826913589\n",
            "Loss value at epoch:  27  is:  47.017699082394344\n",
            "Loss value at epoch:  28  is:  45.78736250055674\n",
            "Loss value at epoch:  29  is:  44.617748436977244\n",
            "Loss value at epoch:  30  is:  43.50459036864416\n",
            "Loss value at epoch:  31  is:  42.44400336499133\n",
            "Loss value at epoch:  32  is:  41.43244046655161\n",
            "Loss value at epoch:  33  is:  40.4666555726842\n",
            "Loss value at epoch:  34  is:  39.54367156768978\n",
            "Loss value at epoch:  35  is:  38.66075276756803\n",
            "Loss value at epoch:  36  is:  37.81538098654166\n",
            "Loss value at epoch:  37  is:  37.005234660535734\n",
            "Loss value at epoch:  38  is:  36.2281705599459\n",
            "Loss value at epoch:  39  is:  35.48220769647341\n",
            "Loss value at epoch:  40  is:  34.76551308877995\n",
            "Loss value at epoch:  41  is:  34.076389103782844\n",
            "Loss value at epoch:  42  is:  33.413262136293284\n",
            "Loss value at epoch:  43  is:  32.774672429921566\n",
            "Loss value at epoch:  44  is:  32.15926487690457\n",
            "Loss value at epoch:  45  is:  31.565780663945773\n",
            "Loss value at epoch:  46  is:  30.99304965562888\n",
            "Loss value at epoch:  47  is:  30.43998342694669\n",
            "Loss value at epoch:  48  is:  29.90556887253814\n",
            "Loss value at epoch:  49  is:  29.388862332946097\n",
            "Loss value at epoch:  50  is:  28.888984188180743\n",
            "Loss value at epoch:  51  is:  28.405113876633468\n",
            "Loss value at epoch:  52  is:  27.936485303406187\n",
            "Loss value at epoch:  53  is:  27.482382606795895\n",
            "Loss value at epoch:  54  is:  27.042136255327726\n",
            "Loss value at epoch:  55  is:  26.615119450617073\n",
            "Loss value at epoch:  56  is:  26.20074481365978\n",
            "Loss value at epoch:  57  is:  25.798461334046976\n",
            "Loss value at epoch:  58  is:  25.407751563187865\n",
            "Loss value at epoch:  59  is:  25.028129033978914\n",
            "Loss value at epoch:  60  is:  24.65913589053912\n",
            "Loss value at epoch:  61  is:  24.300340712678207\n",
            "Loss value at epoch:  62  is:  23.95133652070887\n",
            "Loss value at epoch:  63  is:  23.611738947075132\n",
            "Loss value at epoch:  64  is:  23.281184562065036\n",
            "Loss value at epoch:  65  is:  22.959329341618\n",
            "Loss value at epoch:  66  is:  22.645847265937697\n",
            "Loss value at epoch:  67  is:  22.34042903828701\n",
            "Loss value at epoch:  68  is:  22.042780913980536\n",
            "Loss value at epoch:  69  is:  21.75262363020768\n",
            "Loss value at epoch:  70  is:  21.469691427919383\n",
            "Loss value at epoch:  71  is:  21.193731157596886\n",
            "Loss value at epoch:  72  is:  20.924501461292984\n",
            "Loss value at epoch:  73  is:  20.66177202389531\n",
            "Loss value at epoch:  74  is:  20.405322887105594\n",
            "Loss value at epoch:  75  is:  20.154943820157797\n",
            "Loss value at epoch:  76  is:  19.91043374180809\n",
            "Loss value at epoch:  77  is:  19.671600188618896\n",
            "Loss value at epoch:  78  is:  19.438258825024533\n",
            "Loss value at epoch:  79  is:  19.21023299110493\n",
            "Loss value at epoch:  80  is:  18.987353284404506\n",
            "Loss value at epoch:  81  is:  18.769457172513793\n",
            "Loss value at epoch:  82  is:  18.556388633481433\n",
            "Loss value at epoch:  83  is:  18.34799782144237\n",
            "Loss value at epoch:  84  is:  18.144140755136576\n",
            "Loss value at epoch:  85  is:  17.944679027250267\n",
            "Loss value at epoch:  86  is:  17.749479532742114\n",
            "Loss value at epoch:  87  is:  17.55841421451973\n",
            "Loss value at epoch:  88  is:  17.371359825011293\n",
            "Loss value at epoch:  89  is:  17.18819770233368\n",
            "Loss value at epoch:  90  is:  17.008813559895795\n",
            "Loss value at epoch:  91  is:  16.83309728839476\n",
            "Loss value at epoch:  92  is:  16.660942769267354\n",
            "Loss value at epoch:  93  is:  16.492247698749146\n",
            "Loss value at epoch:  94  is:  16.326913421773305\n",
            "Loss value at epoch:  95  is:  16.16484477501062\n",
            "Loss value at epoch:  96  is:  16.005949938412982\n",
            "Loss value at epoch:  97  is:  15.85014029467697\n",
            "Loss value at epoch:  98  is:  15.697330296092167\n",
            "Loss value at epoch:  99  is:  15.547437338281773\n",
            "Loss value at epoch:  100  is:  15.400381640381976\n",
            "Loss value at epoch:  101  is:  15.256086131241512\n",
            "Loss value at epoch:  102  is:  15.114476341254933\n",
            "Loss value at epoch:  103  is:  14.975480299471917\n",
            "Loss value at epoch:  104  is:  14.839028435652263\n",
            "Loss value at epoch:  105  is:  14.705053486960384\n",
            "Loss value at epoch:  106  is:  14.573490409015948\n",
            "Loss value at epoch:  107  is:  14.444276291038285\n",
            "Loss value at epoch:  108  is:  14.317350274841692\n",
            "Loss value at epoch:  109  is:  14.192653477456181\n",
            "Loss value at epoch:  110  is:  14.070128917165263\n",
            "Loss value at epoch:  111  is:  13.949721442767224\n",
            "Loss value at epoch:  112  is:  13.831377665880657\n",
            "Loss value at epoch:  113  is:  13.715045896127677\n",
            "Loss value at epoch:  114  is:  13.60067607904056\n",
            "Loss value at epoch:  115  is:  13.488219736548238\n",
            "Loss value at epoch:  116  is:  13.3776299099092\n",
            "Loss value at epoch:  117  is:  13.268861104966756\n",
            "Loss value at epoch:  118  is:  13.161869239611029\n",
            "Loss value at epoch:  119  is:  13.05661159333974\n",
            "Loss value at epoch:  120  is:  12.953046758817226\n",
            "Loss value at epoch:  121  is:  12.851134595337466\n",
            "Loss value at epoch:  122  is:  12.750836184102955\n",
            "Loss value at epoch:  123  is:  12.652113785236867\n",
            "Loss value at epoch:  124  is:  12.554930796450854\n",
            "Loss value at epoch:  125  is:  12.459251713295458\n",
            "Loss value at epoch:  126  is:  12.365042090924597\n",
            "Loss value at epoch:  127  is:  12.272268507309015\n",
            "Loss value at epoch:  128  is:  12.180898527837886\n",
            "Loss value at epoch:  129  is:  12.09090067125019\n",
            "Loss value at epoch:  130  is:  12.002244376841457\n",
            "Loss value at epoch:  131  is:  11.914899972893538\n",
            "Loss value at epoch:  132  is:  11.828838646278207\n",
            "Loss value at epoch:  133  is:  11.744032413187458\n",
            "Loss value at epoch:  134  is:  11.660454090945944\n",
            "Loss value at epoch:  135  is:  11.578077270862785\n",
            "Loss value at epoch:  136  is:  11.49687629208227\n",
            "Loss value at epoch:  137  is:  11.41682621639443\n",
            "Loss value at epoch:  138  is:  11.337902803968621\n",
            "Loss value at epoch:  139  is:  11.260082489974444\n",
            "Loss value at epoch:  140  is:  11.183342362056191\n",
            "Loss value at epoch:  141  is:  11.10766013862817\n",
            "Loss value at epoch:  142  is:  11.033014147959843\n",
            "Loss value at epoch:  143  is:  10.95938330802087\n",
            "Loss value at epoch:  144  is:  10.886747107057289\n",
            "Loss value at epoch:  145  is:  10.81508558487143\n",
            "Loss value at epoch:  146  is:  10.74437931477909\n",
            "Loss value at epoch:  147  is:  10.674609386218485\n",
            "Loss value at epoch:  148  is:  10.605757387986763\n",
            "Loss value at epoch:  149  is:  10.53780539208046\n",
            "Loss value at epoch:  150  is:  10.470735938117398\n",
            "Loss value at epoch:  151  is:  10.404532018318426\n",
            "Loss value at epoch:  152  is:  10.339177063027982\n",
            "Loss value at epoch:  153  is:  10.274654926753584\n",
            "Loss value at epoch:  154  is:  10.210949874704763\n",
            "Loss value at epoch:  155  is:  10.148046569813044\n",
            "Loss value at epoch:  156  is:  10.085930060214874\n",
            "Loss value at epoch:  157  is:  10.02458576718055\n",
            "Loss value at epoch:  158  is:  9.963999473472288\n",
            "Loss value at epoch:  159  is:  9.904157312115665\n",
            "Loss value at epoch:  160  is:  9.845045755569068\n",
            "Loss value at epoch:  161  is:  9.786651605276266\n",
            "Loss value at epoch:  162  is:  9.728961981587942\n",
            "Loss value at epoch:  163  is:  9.671964314038451\n",
            "Loss value at epoch:  164  is:  9.61564633196464\n",
            "Loss value at epoch:  165  is:  9.559996055453954\n",
            "Loss value at epoch:  166  is:  9.505001786609618\n",
            "Loss value at epoch:  167  is:  9.450652101121168\n",
            "Loss value at epoch:  168  is:  9.39693584012893\n",
            "Loss value at epoch:  169  is:  9.343842102371486\n",
            "Loss value at epoch:  170  is:  9.291360236605712\n",
            "Loss value at epoch:  171  is:  9.239479834289149\n",
            "Loss value at epoch:  172  is:  9.188190722515117\n",
            "Loss value at epoch:  173  is:  9.13748295719095\n",
            "Loss value at epoch:  174  is:  9.087346816450571\n",
            "Loss value at epoch:  175  is:  9.037772794292515\n",
            "Loss value at epoch:  176  is:  8.988751594435152\n",
            "Loss value at epoch:  177  is:  8.940274124380945\n",
            "Loss value at epoch:  178  is:  8.892331489682121\n",
            "Loss value at epoch:  179  is:  8.844914988400127\n",
            "Loss value at epoch:  180  is:  8.798016105751827\n",
            "Loss value at epoch:  181  is:  8.751626508935427\n",
            "Loss value at epoch:  182  is:  8.705738042129536\n",
            "Loss value at epoch:  183  is:  8.660342721658921\n",
            "Loss value at epoch:  184  is:  8.61543273132079\n",
            "Loss value at epoch:  185  is:  8.571000417865719\n",
            "Loss value at epoch:  186  is:  8.527038286627455\n",
            "Loss value at epoch:  187  is:  8.483538997296142\n",
            "Loss value at epoch:  188  is:  8.440495359829708\n",
            "Loss value at epoch:  189  is:  8.397900330498278\n",
            "Loss value at epoch:  190  is:  8.355747008056738\n",
            "Loss value at epoch:  191  is:  8.31402863004083\n",
            "Loss value at epoch:  192  is:  8.272738569182106\n",
            "Loss value at epoch:  193  is:  8.231870329937552\n",
            "Loss value at epoch:  194  is:  8.19141754512956\n",
            "Loss value at epoch:  195  is:  8.15137397269232\n",
            "Loss value at epoch:  196  is:  8.111733492520717\n",
            "Loss value at epoch:  197  is:  8.072490103418021\n",
            "Loss value at epoch:  198  is:  8.033637920138794\n",
            "Loss value at epoch:  199  is:  7.995171170523568\n",
            "Accuarcy of the trained model:  67.96844495061393 %\n"
          ],
          "name": "stdout"
        }
      ]
    }
  ]
}