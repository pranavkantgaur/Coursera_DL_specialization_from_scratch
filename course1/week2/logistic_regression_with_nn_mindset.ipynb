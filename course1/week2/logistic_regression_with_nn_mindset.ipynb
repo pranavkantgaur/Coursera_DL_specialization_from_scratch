{
  "nbformat": 4,
  "nbformat_minor": 0,
  "metadata": {
    "colab": {
      "name": "logistic_regression_with_nn_mindset.ipynb",
      "provenance": [],
      "collapsed_sections": [],
      "mount_file_id": "1z2ZP3xqeB_jjt5_ijlyVJSIRS6-cZuq2",
      "authorship_tag": "ABX9TyOOSVlSrCdtj8z3caVCjSrO",
      "include_colab_link": true
    },
    "kernelspec": {
      "name": "python3",
      "display_name": "Python 3"
    }
  },
  "cells": [
    {
      "cell_type": "markdown",
      "metadata": {
        "id": "view-in-github",
        "colab_type": "text"
      },
      "source": [
        "<a href=\"https://colab.research.google.com/github/pranavkantgaur/Coursera_DL_specialization_from_scratch/blob/master/course1/week2/logistic_regression_with_nn_mindset.ipynb\" target=\"_parent\"><img src=\"https://colab.research.google.com/assets/colab-badge.svg\" alt=\"Open In Colab\"/></a>"
      ]
    },
    {
      "cell_type": "code",
      "metadata": {
        "id": "FZ5YZ2gY8y49",
        "colab_type": "code",
        "outputId": "ad0bc248-5527-437f-83e6-ae0e0b74e611",
        "colab": {
          "base_uri": "https://localhost:8080/",
          "height": 34
        }
      },
      "source": [
        "from google.colab import drive\n",
        "drive.mount('/content/drive')"
      ],
      "execution_count": 1,
      "outputs": [
        {
          "output_type": "stream",
          "text": [
            "Drive already mounted at /content/drive; to attempt to forcibly remount, call drive.mount(\"/content/drive\", force_remount=True).\n"
          ],
          "name": "stdout"
        }
      ]
    },
    {
      "cell_type": "code",
      "metadata": {
        "id": "1qoA9qFTtRWs",
        "colab_type": "code",
        "colab": {}
      },
      "source": [
        "import numpy as np # linear algebra\n",
        "import matplotlib.pyplot as plt # plotting\n",
        "import h5py # data loading for hdf5 dataset\n",
        "from PIL import Image # for loading your images for processing\n",
        "from scipy import ndimage \n",
        "#from lr_utils import load_dataset"
      ],
      "execution_count": 0,
      "outputs": []
    },
    {
      "cell_type": "code",
      "metadata": {
        "id": "IQhWjN4N82NH",
        "colab_type": "code",
        "outputId": "679185a5-65aa-47d9-be5a-821885352a5d",
        "colab": {
          "base_uri": "https://localhost:8080/",
          "height": 34
        }
      },
      "source": [
        "!ls"
      ],
      "execution_count": 2,
      "outputs": [
        {
          "output_type": "stream",
          "text": [
            "datasets  drive  model\tsample_data\n"
          ],
          "name": "stdout"
        }
      ]
    },
    {
      "cell_type": "markdown",
      "metadata": {
        "id": "p0qdb183zyTs",
        "colab_type": "text"
      },
      "source": [
        "## Problem statement\n",
        "a training set of m_train images, labeled as cat (y =1) or not-cat (y = 0).\n",
        "a test set of m_test_images\n",
        "each image is of shape (num_px, num_px, 3), RGB channels \n"
      ]
    },
    {
      "cell_type": "code",
      "metadata": {
        "id": "lM4n7arh2ubw",
        "colab_type": "code",
        "colab": {}
      },
      "source": [
        "# implementing utility function for loading cat vs non-cat datasets\n",
        "def load_dataset():\n",
        "  train_dataset = h5py.File('datasets/train_catvnoncat.h5', \"r\")\n",
        "  test_dataset = h5py.File('datasets/test_catvnoncat.h5', \"r\")\n",
        "  train_set_x = np.array(train_dataset[\"train_set_x\"][:])\n",
        "  train_set_y = np.array(train_dataset[\"train_set_y\"][:])\n",
        "  test_set_x  = np.array(test_dataset[\"test_set_x\"][:])\n",
        "  test_set_y = np.array(test_dataset[\"test_set_y\"][:])\n",
        "  classes = np.array(train_dataset[\"list_classes\"][:])\n",
        "\n",
        "  # lets reshape the arrays\n",
        "  train_set_y = train_set_y.reshape((1, train_set_y.shape[0]))\n",
        "  test_set_y = test_set_y.reshape((1, test_set_y.shape[0]))\n",
        "\n",
        "  return train_set_x, train_set_y, test_set_x, test_set_y, classes"
      ],
      "execution_count": 0,
      "outputs": []
    },
    {
      "cell_type": "code",
      "metadata": {
        "id": "ArWwvFhs0ZvI",
        "colab_type": "code",
        "colab": {}
      },
      "source": [
        "# load training dataset\n",
        "x_train_images, y_train_images, x_test_images, y_test_images, classes = load_dataset()\n",
        "# x_train_images: (m, nx, ny, nc)\n",
        "# y_train_images: (1, m)"
      ],
      "execution_count": 0,
      "outputs": []
    },
    {
      "cell_type": "code",
      "metadata": {
        "id": "zrBAKBJWBQZ3",
        "colab_type": "code",
        "outputId": "7d542478-c1a4-4860-9833-175dcae178d6",
        "colab": {
          "base_uri": "https://localhost:8080/",
          "height": 285
        }
      },
      "source": [
        "# lets inspect the dataset\n",
        "image_id = 25\n",
        "plt.imshow(x_train_images[image_id])\n",
        "print(\"y = \", y_train_images[0][image_id], \"Its a \" + classes[y_train_images[0][image_id]].decode(\"utf-8\") + \" picture!!\")"
      ],
      "execution_count": 6,
      "outputs": [
        {
          "output_type": "stream",
          "text": [
            "y =  1 Its a cat picture!!\n"
          ],
          "name": "stdout"
        },
        {
          "output_type": "display_data",
          "data": {
            "image/png": "[encoded data removed]",
            "text/plain": [
              "<Figure size 432x288 with 1 Axes>"
            ]
          },
          "metadata": {
            "tags": []
          }
        }
      ]
    },
    {
      "cell_type": "code",
      "metadata": {
        "id": "BCKChIqAEasY",
        "colab_type": "code",
        "outputId": "eed78603-4ed2-4507-fbb4-b52572605e7d",
        "colab": {
          "base_uri": "https://localhost:8080/",
          "height": 104
        }
      },
      "source": [
        "# lets inspect the shapes of the dataset arrays\n",
        "print(\"Training set shape: \", x_train_images.shape) #  m, nx, ny, nc\n",
        "print(\"Training set labels shape: \", y_train_images.shape) # 1, m\n",
        "print(\"Test set shape: \", x_test_images.shape)\n",
        "print(\"Test set labels shape: \", y_test_images.shape)\n",
        "print(\"Each image is of shape: \", x_train_images[0].shape)"
      ],
      "execution_count": 7,
      "outputs": [
        {
          "output_type": "stream",
          "text": [
            "Training set shape:  (209, 64, 64, 3)\n",
            "Training set labels shape:  (1, 209)\n",
            "Test set shape:  (50, 64, 64, 3)\n",
            "Test set labels shape:  (1, 50)\n",
            "Each image is of shape:  (64, 64, 3)\n"
          ],
          "name": "stdout"
        }
      ]
    },
    {
      "cell_type": "code",
      "metadata": {
        "id": "I9JaxwWHGU9M",
        "colab_type": "code",
        "outputId": "191b7ff8-e412-4ca3-cb63-89154e460eb0",
        "colab": {
          "base_uri": "https://localhost:8080/",
          "height": 104
        }
      },
      "source": [
        "# Lets flatten the train and test image dataset for training\n",
        "x_train_images_flattened = x_train_images.reshape((x_train_images.shape[0], x_train_images.shape[1] * \n",
        "                                                   x_train_images.shape[2] * \n",
        "                                                   x_train_images.shape[3], 1)) \n",
        "x_train_images_flattened = np.squeeze(x_train_images_flattened)\n",
        "x_train_images_flattened = x_train_images_flattened.T\n",
        "x_test_images_flattened = x_test_images.reshape((x_test_images.shape[0], x_train_images.shape[1] * \n",
        "                                                 x_test_images.shape[2] * \n",
        "                                                 x_test_images.shape[3], 1))\n",
        "\n",
        "x_test_images_flattened = np.squeeze(x_test_images_flattened)\n",
        "x_test_images_flattened = x_test_images_flattened.T\n",
        "\n",
        "# lets print\n",
        "print(\"Flattened version of train images: \", x_train_images_flattened.shape)\n",
        "print(\"Label set for training dataset: \", y_train_images.shape)\n",
        "print(\"Flattened version of test images: \", x_test_images_flattened.shape)\n",
        "print(\"Label set for test dataset: \", y_test_images.shape)\n",
        "\n",
        "\n",
        "print(\"Sanity check after reshaping: \", x_train_images_flattened[0:5, 0])"
      ],
      "execution_count": 8,
      "outputs": [
        {
          "output_type": "stream",
          "text": [
            "Flattened version of train images:  (12288, 209)\n",
            "Label set for training dataset:  (1, 209)\n",
            "Flattened version of test images:  (12288, 50)\n",
            "Label set for test dataset:  (1, 50)\n",
            "Sanity check after reshaping:  [17 31 56 22 33]\n"
          ],
          "name": "stdout"
        }
      ]
    },
    {
      "cell_type": "code",
      "metadata": {
        "id": "8Gmt4dlG44u_",
        "colab_type": "code",
        "colab": {}
      },
      "source": [
        "# normalization\n",
        "x_train_images = x_train_images_flattened / 255.0\n",
        "x_test_images = x_test_images_flattened / 255.0"
      ],
      "execution_count": 0,
      "outputs": []
    },
    {
      "cell_type": "markdown",
      "metadata": {
        "id": "GUqz0K1g5LKs",
        "colab_type": "text"
      },
      "source": [
        "## Time to design architecture for Cat vs non-Cat problem\n",
        "A logistic unit(forward calculations):\n",
        "\\begin{equation*}\n",
        "z^{(i)} = w^{T}x^{(i)} + b\n",
        "\\end{equation*}\n",
        "\\begin{equation*}\n",
        "y' = a^{(i)} = sigmoid(z^{(i)})\n",
        "\\end{equation*}\n",
        "\\begin{equation*}\n",
        "L(y'^{(i)}, y^{(i)}) = - y ^{(i)} log(y'^{i}) - (1 - y^{(i)})log(1 - y'^{(i)})\n",
        "\\end{equation*}"
      ]
    },
    {
      "cell_type": "markdown",
      "metadata": {
        "id": "kQ5-uORb7ueP",
        "colab_type": "text"
      },
      "source": [
        "The main steps for building a Neural Network are:\n",
        "\n",
        "    Define the model structure (such as number of input features)\n",
        "    Initialize the model's parameters\n",
        "    Loop:\n",
        "        Calculate current loss (forward propagation)\n",
        "        Calculate current gradient (backward propagation)\n",
        "        Update parameters (gradient descent)\n",
        "\n",
        "You often build 1-3 separately and integrate them into one function we call model()."
      ]
    },
    {
      "cell_type": "code",
      "metadata": {
        "id": "pdIxYStpC59e",
        "colab_type": "code",
        "colab": {}
      },
      "source": [
        "def sigmoid(z):\n",
        "  sigm = 1 / (1 + np.exp(-1.0 * z))\n",
        "  return sigm"
      ],
      "execution_count": 0,
      "outputs": []
    },
    {
      "cell_type": "code",
      "metadata": {
        "id": "Zxlol_oV8MWh",
        "colab_type": "code",
        "colab": {}
      },
      "source": [
        "from numpy import save\n",
        "\n",
        "\n",
        "# create model class\n",
        "class CatvsNoncatClassifier(object):\n",
        "  def __init__(self, input_size, num_hidden_units = 1):\n",
        "    self.n_hidden_units = num_hidden_units\n",
        "    self.w = np.zeros((self.n_hidden_units, input_size), dtype = 'float32')\n",
        "    self.b = np.zeros((self.n_hidden_units, 1), dtype = 'float32')\n",
        "    self.build_model()\n",
        "  \n",
        "  def build_model(self): # not required here since foward_prop and back_prop will \n",
        "    None                 # do that\n",
        "    \n",
        "   \n",
        "  def initialize_parameters(self, x_shape):\n",
        "    # init w and b\n",
        "    self.w = np.zeros((self.n_hidden_units, x_shape), dtype = 'float32')\n",
        "    self.b = np.zeros((self.n_hidden_units, 1), dtype = 'float32')\n",
        "  \n",
        "  def forward_propogation(self, x):\n",
        "    z = np.dot(self.w, x) + self.b\n",
        "    y_predicted = sigmoid(z)\n",
        "    return y_predicted\n",
        "\n",
        "  def compute_cost(self, y_predicted, y_ground):\n",
        "    \n",
        "    L = -1.0 * np.mean(np.dot(y_ground, np.log(y_predicted).T) + np.dot((1 - y_ground), np.log(1 - y_predicted).T)) # cross entropy loss\n",
        "    #L = np.mean(np.square(np.abs(y_ground - y_predicted))) # mean square loss\n",
        "    return L    \n",
        "\n",
        "  def backward_propogation(self, x, y_predicted, y_ground):\n",
        "    dw = (y_predicted - y_ground) * x.T\n",
        "    db = (y_predicted - y_ground) \n",
        "    #print(\"shape of y_ground: \", y_ground.shape)\n",
        "    #print(\"shape of y_predicted: \", y_predicted.shape)\n",
        "    #print(\"value of dw: \", dw)\n",
        "    #print(\"value of db: \", db)\n",
        "    return dw, db # both are vectors\n",
        "\n",
        "  def update_parameters(self, dw, db, learning_rate):     \n",
        "    self.w = self.w - learning_rate * dw\n",
        "    self.b = self.b - learning_rate * db\n",
        "    \n",
        "    \n",
        "  def train_model(self, x, y_ground, learning_rate = 0.001, n_training_epochs = 10):\n",
        "    self.initialize_parameters(x.shape[0])\n",
        "    losses = []\n",
        "    for i in range(n_training_epochs): # no concept of mini-batch yet.\n",
        "      predictions = [] # for collecting predictions across an epoch\n",
        "      ground_truths = []\n",
        "      for j in range(x.shape[1]): # for each training example\n",
        "        x_sample = x[:, j]\n",
        "        x_sample = x_sample.reshape(x_sample.shape[0], 1)\n",
        "        y_sample  = y_ground[:, j]\n",
        "        y_sample = y_sample.reshape(1, y_sample.shape[0])\n",
        "\n",
        "        y_predicted = self.forward_propogation(x_sample) \n",
        " \n",
        "        dw, db = self.backward_propogation(x_sample, y_predicted, y_sample)\n",
        "        self.update_parameters(dw, db, learning_rate)\n",
        "        predictions.append(y_predicted)\n",
        "        ground_truths.append(y_sample)\n",
        "\n",
        "      predictions_array = np.asarray(predictions).reshape(1, len(predictions))\n",
        "      ground_truths_array = np.asarray(ground_truths).reshape(1, len(ground_truths))\n",
        "      loss_per_epoch = self.compute_cost(predictions_array, ground_truths_array)\n",
        "      if (i % 100 == 0):\n",
        "        print(\"Loss value at epoch: \", i, \" is: \", loss_per_epoch)\n",
        "      losses.append(loss_per_epoch) \n",
        "    # save parameters\n",
        "    save(\"model/w.npy\", self.w)\n",
        "    save(\"model/b.npy\", self.b)\n",
        "    plt.xlabel(\"#epoch\")\n",
        "    plt.ylabel(\"loss\")\n",
        "    plt.plot(range(n_training_epochs), losses)\n",
        "    plt.show()\n",
        "\n",
        "  def evaluate_model(self, x_test, y_test):\n",
        "     predictions = []\n",
        "     grounds = []\n",
        "     self.w = np.load('model/w.npy')\n",
        "     self.b = np.load('model/b.npy')\n",
        "     for i in range(x_test.shape[1]):\n",
        "       y_predicted = self.forward_propogation(x_test[:, i])\n",
        "       predictions.append(y_predicted)\n",
        "       grounds.append(y_test[:, i])\n",
        "     print(\"Accuarcy of the trained model: \", 100 - np.mean(np.abs(np.asarray(predictions).reshape(len(predictions), 1) \n",
        "                                                                  - np.asarray(grounds).reshape(len(grounds), 1)))\n",
        "                                                                  * 100, \"%\")"
      ],
      "execution_count": 0,
      "outputs": []
    },
    {
      "cell_type": "code",
      "metadata": {
        "id": "SxF6jXZzbNLa",
        "colab_type": "code",
        "colab": {}
      },
      "source": [
        "# data(train and test) has already being loaded and preprocessed\n",
        "classifier = CatvsNoncatClassifier(num_hidden_units=1, input_size = x_train_images.shape[0])"
      ],
      "execution_count": 0,
      "outputs": []
    },
    {
      "cell_type": "code",
      "metadata": {
        "id": "Mu29FgTNfmns",
        "colab_type": "code",
        "outputId": "602438f5-dd95-4ad9-aa0e-c6c3cd2fa9f9",
        "colab": {
          "base_uri": "https://localhost:8080/",
          "height": 626
        }
      },
      "source": [
        "# comment out this line if model is already trained.\n",
        "classifier.train_model(x_train_images, y_train_images, learning_rate = 0.005,\n",
        "                         n_training_epochs = 2000)"
      ],
      "execution_count": 108,
      "outputs": [
        {
          "output_type": "stream",
          "text": [
            "Loss value at epoch:  0  is:  554.1028161656984\n",
            "Loss value at epoch:  100  is:  1.9328058871755331\n",
            "Loss value at epoch:  200  is:  1.1084477948019094\n",
            "Loss value at epoch:  300  is:  0.7824127907364721\n",
            "Loss value at epoch:  400  is:  0.5702710162626643\n",
            "Loss value at epoch:  500  is:  0.4358805572019496\n",
            "Loss value at epoch:  600  is:  0.3526879642487003\n",
            "Loss value at epoch:  700  is:  0.29831375417073913\n",
            "Loss value at epoch:  800  is:  0.2601767782423329\n",
            "Loss value at epoch:  900  is:  0.23180858378801283\n",
            "Loss value at epoch:  1000  is:  0.20974506442872715\n",
            "Loss value at epoch:  1100  is:  0.19199912267949204\n",
            "Loss value at epoch:  1200  is:  0.17735348865785286\n",
            "Loss value at epoch:  1300  is:  0.1650194679734543\n",
            "Loss value at epoch:  1400  is:  0.15446179728060494\n",
            "Loss value at epoch:  1500  is:  0.14530308716866536\n",
            "Loss value at epoch:  1600  is:  0.1372687305439904\n",
            "Loss value at epoch:  1700  is:  0.13015357310640777\n",
            "Loss value at epoch:  1800  is:  0.12380089395144547\n",
            "Loss value at epoch:  1900  is:  0.11808866718501305\n"
          ],
          "name": "stdout"
        },
        {
          "output_type": "display_data",
          "data": {
            "image/png": "[encoded data removed]",
            "text/plain": [
              "<Figure size 432x288 with 1 Axes>"
            ]
          },
          "metadata": {
            "tags": []
          }
        }
      ]
    },
    {
      "cell_type": "code",
      "metadata": {
        "id": "rOainp-OdJga",
        "colab_type": "code",
        "outputId": "2572568b-9392-40de-c0ce-7fbc8f73eaa8",
        "colab": {
          "base_uri": "https://localhost:8080/",
          "height": 34
        }
      },
      "source": [
        "classifier.evaluate_model(x_test_images, y_test_images)"
      ],
      "execution_count": 109,
      "outputs": [
        {
          "output_type": "stream",
          "text": [
            "Accuarcy of the trained model:  69.56011605053672 %\n"
          ],
          "name": "stdout"
        }
      ]
    },
    {
      "cell_type": "markdown",
      "metadata": {
        "id": "uhXZVeyPpJXB",
        "colab_type": "text"
      },
      "source": [
        "# A  vectorized version"
      ]
    },
    {
      "cell_type": "code",
      "metadata": {
        "id": "zLOPOgwfjdpq",
        "colab_type": "code",
        "colab": {}
      },
      "source": [
        "class  VectorizedCatvsNoCatClassifier(object):\n",
        "  \n",
        "  def __init__(self, n_hidden_units):\n",
        "    # hyperparameters\n",
        "    self.n_hidden_units = n_hidden_units \n",
        "    self.lr = 0.0\n",
        "    self.n_epochs = 0\n",
        "    # parameters\n",
        "    self.w = 0 \n",
        "    self.b = 0\n",
        "    \n",
        "\n",
        "  def initialize_parameters(self, nx_ny):\n",
        "    self.w = np.zeros((self.n_hidden_units, nx_ny), dtype = 'float32')\n",
        "    self.b = np.zeros((self.n_hidden_units, 1), dtype='float32')\n",
        "    \n",
        "  \n",
        "  def forward_prop(self, X):\n",
        "    Z = np.dot(self.w, X) + self.b\n",
        "    A = sigmoid(Z)\n",
        "    assert(A.shape == (self.n_hidden_units, X.shape[1]))\n",
        "    return A\n",
        "  \n",
        "  def backward_prop(self, X, A, Y, m):\n",
        "    dw = np.dot((A - Y), X.T) / m # assumes single hidden unit, else A.shape != Y.shape\n",
        "    db = np.mean(A - Y)\n",
        "    assert(dw.shape == self.w.shape)\n",
        "    assert(db.dtype == float)\n",
        "    return dw, db     \n",
        "\n",
        "  def update_parameters(self, dw, db):\n",
        "    self.w = self.w - self.lr * dw\n",
        "    self.b = self.b  - self.lr * db \n",
        "\n",
        "  def compute_cost(self, Y, A, m):\n",
        "    cost = -(np.dot(Y, np.transpose(np.log(A))) + np.dot(1 - Y, np.transpose(np.log(1 - A)))) / m\n",
        "    return cost\n",
        "     \n",
        "\n",
        "  def train(self, X, Y, lr = 0.001, n_epochs = 10):\n",
        "    \n",
        "    m = X.shape[1] # number of training examples\n",
        "    nx_ny = X.shape[0] # size of a flattened image example\n",
        "    self.initialize_parameters(nx_ny)\n",
        "    self.lr = lr\n",
        "    self.n_epochs = n_epochs\n",
        "\n",
        "    losses = []\n",
        "    for i in range(self.n_epochs):\n",
        "      A = self.forward_prop(X)\n",
        "      dw, db = self.backward_prop(X, A, Y, m)                   \n",
        "      self.update_parameters(dw, db)\n",
        "      cost = self.compute_cost(Y, A, m)\n",
        "      if(i % 100 == 0):\n",
        "        print(\"Loss over epoch: \", i, \": \", cost)\n",
        "        print(\"Training accuracy: \", 100 - np.mean(np.abs(A - Y)) * 100)  \n",
        "      losses.append(cost)\n",
        "    # save parameters for evaluation\n",
        "    save(\"model/v_w.npy\", self.w)\n",
        "    save(\"model/v_b.npy\", self.b)\n",
        "    # plot the performance\n",
        "    plt.plot(range(n_epochs), np.squeeze(losses))\n",
        "    plt.xlabel(\"epoch\")\n",
        "    plt.ylabel(\"loss\")\n",
        "    print(\"Final Training accuracy: \", 100 - np.mean(np.abs(A - Y)) * 100)\n",
        "\n",
        "  def evaluate(self, X, Y):\n",
        "    self.w = np.load('model/v_w.npy')\n",
        "    self.b = np.load('model/v_b.npy')   \n",
        "    A = self.forward_prop(X)\n",
        "    print(\"Test accuracy: \", 100 - np.mean(np.abs(A - Y)) * 100)"
      ],
      "execution_count": 0,
      "outputs": []
    },
    {
      "cell_type": "code",
      "metadata": {
        "id": "a0oMQgVFpWm8",
        "colab_type": "code",
        "colab": {}
      },
      "source": [
        "vect_catvsnoncat = VectorizedCatvsNoCatClassifier(n_hidden_units = 1)"
      ],
      "execution_count": 0,
      "outputs": []
    },
    {
      "cell_type": "code",
      "metadata": {
        "id": "Ln7r90iiqRU4",
        "colab_type": "code",
        "outputId": "371ea768-31c9-4fd1-e775-2f4fa9e99a07",
        "colab": {
          "base_uri": "https://localhost:8080/",
          "height": 991
        }
      },
      "source": [
        "vect_catvsnoncat.train(x_train_images, y_train_images, lr = 0.005, \n",
        "                       n_epochs = 2000)"
      ],
      "execution_count": 103,
      "outputs": [
        {
          "output_type": "stream",
          "text": [
            "Loss over epoch:  0 :  [[0.69314718]]\n",
            "Training accuracy:  50.0\n",
            "Loss over epoch:  100 :  [[0.58450836]]\n",
            "Training accuracy:  58.842658156087715\n",
            "Loss over epoch:  200 :  [[0.46694904]]\n",
            "Training accuracy:  65.3666766905704\n",
            "Loss over epoch:  300 :  [[0.37600687]]\n",
            "Training accuracy:  70.74250902442145\n",
            "Loss over epoch:  400 :  [[0.33146329]]\n",
            "Training accuracy:  74.00656362994198\n",
            "Loss over epoch:  500 :  [[0.30327307]]\n",
            "Training accuracy:  75.8896260035821\n",
            "Loss over epoch:  600 :  [[0.27987959]]\n",
            "Training accuracy:  77.4872147417223\n",
            "Loss over epoch:  700 :  [[0.26004214]]\n",
            "Training accuracy:  78.8661599644488\n",
            "Loss over epoch:  800 :  [[0.24294068]]\n",
            "Training accuracy:  80.07226734707686\n",
            "Loss over epoch:  900 :  [[0.22800422]]\n",
            "Training accuracy:  81.13904798116312\n",
            "Loss over epoch:  1000 :  [[0.21481951]]\n",
            "Training accuracy:  82.09149053811643\n",
            "Loss over epoch:  1100 :  [[0.20307819]]\n",
            "Training accuracy:  82.94863110664079\n",
            "Loss over epoch:  1200 :  [[0.19254428]]\n",
            "Training accuracy:  83.72525943780087\n",
            "Loss over epoch:  1300 :  [[0.18303334]]\n",
            "Training accuracy:  84.43306837138596\n",
            "Loss over epoch:  1400 :  [[0.17439859]]\n",
            "Training accuracy:  85.08144585948607\n",
            "Loss over epoch:  1500 :  [[0.1665214]]\n",
            "Training accuracy:  85.6780333903306\n",
            "Loss over epoch:  1600 :  [[0.15930452]]\n",
            "Training accuracy:  86.22912801212406\n",
            "Loss over epoch:  1700 :  [[0.15266732]]\n",
            "Training accuracy:  86.73997713191413\n",
            "Loss over epoch:  1800 :  [[0.14654224]]\n",
            "Training accuracy:  87.2149981498035\n",
            "Loss over epoch:  1900 :  [[0.14087208]]\n",
            "Training accuracy:  87.65794439762476\n",
            "Final Training accuracy:  88.06802460272732\n"
          ],
          "name": "stdout"
        },
        {
          "output_type": "display_data",
          "data": {
            "image/png": "[encoded data removed]",
            "text/plain": [
              "<Figure size 432x288 with 1 Axes>"
            ]
          },
          "metadata": {
            "tags": []
          }
        }
      ]
    },
    {
      "cell_type": "code",
      "metadata": {
        "id": "qL4UF-bcqVB7",
        "colab_type": "code",
        "outputId": "f66f4a96-6032-47aa-b647-dda708a38445",
        "colab": {
          "base_uri": "https://localhost:8080/",
          "height": 34
        }
      },
      "source": [
        "vect_catvsnoncat.evaluate(x_test_images, y_test_images)"
      ],
      "execution_count": 104,
      "outputs": [
        {
          "output_type": "stream",
          "text": [
            "Test accuracy:  64.8468118045174\n"
          ],
          "name": "stdout"
        }
      ]
    }
  ]
}