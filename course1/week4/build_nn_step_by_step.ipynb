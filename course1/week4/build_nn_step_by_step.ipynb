{
  "nbformat": 4,
  "nbformat_minor": 0,
  "metadata": {
    "colab": {
      "name": "build_nn_step_by_step.ipynb",
      "provenance": [],
      "collapsed_sections": [],
      "toc_visible": true,
      "include_colab_link": true
    },
    "kernelspec": {
      "display_name": "Python 3",
      "language": "python",
      "name": "python3"
    },
    "language_info": {
      "codemirror_mode": {
        "name": "ipython",
        "version": 3
      },
      "file_extension": ".py",
      "mimetype": "text/x-python",
      "name": "python",
      "nbconvert_exporter": "python",
      "pygments_lexer": "ipython3",
      "version": "3.7.2"
    }
  },
  "cells": [
    {
      "cell_type": "markdown",
      "metadata": {
        "id": "view-in-github",
        "colab_type": "text"
      },
      "source": [
        "<a href=\"https://colab.research.google.com/github/pranavkantgaur/Coursera_DL_specialization_from_scratch/blob/master/course1/week4/build_nn_step_by_step.ipynb\" target=\"_parent\"><img src=\"https://colab.research.google.com/assets/colab-badge.svg\" alt=\"Open In Colab\"/></a>"
      ]
    },
    {
      "cell_type": "markdown",
      "metadata": {
        "colab_type": "text",
        "id": "k89MutsNmCu4"
      },
      "source": [
        "## Objectives\n",
        "To be able to build and train NNs for various depth and width. This assignment is not tied to any application, therefore it will be evaluated using test cases. The functions developed in this notebook will be used in the next assignment. Target is to build:\n",
        "\n",
        "\n",
        "*   A 2-layer NN\n",
        "*   A L-layer NN\n",
        "\n",
        "Effectively, I will be able to build and train a L-layer fully connected NN, entirely using Numpy.\n"
      ]
    },
    {
      "cell_type": "markdown",
      "metadata": {
        "colab_type": "text",
        "id": "LhtzkYcq1tTK"
      },
      "source": [
        "## Load dataset"
      ]
    },
    {
      "cell_type": "code",
      "metadata": {
        "colab_type": "code",
        "id": "fIaDhxOC2PP1",
        "outputId": "5d67ec57-3a3a-41ff-9cab-c72a365f7edb",
        "colab": {
          "base_uri": "https://localhost:8080/",
          "height": 122
        }
      },
      "source": [
        "from google.colab import drive\n",
        "drive.mount('/content/drive')"
      ],
      "execution_count": 0,
      "outputs": [
        {
          "output_type": "stream",
          "text": [
            "Go to this URL in a browser: https://accounts.google.com/o/oauth2/auth?client_id=947318989803-6bn6qk8qdgf4n4g3pfee6491hc0brc4i.apps.googleusercontent.com&redirect_uri=urn%3aietf%3awg%3aoauth%3a2.0%3aoob&response_type=code&scope=email%20https%3a%2f%2fwww.googleapis.com%2fauth%2fdocs.test%20https%3a%2f%2fwww.googleapis.com%2fauth%2fdrive%20https%3a%2f%2fwww.googleapis.com%2fauth%2fdrive.photos.readonly%20https%3a%2f%2fwww.googleapis.com%2fauth%2fpeopleapi.readonly\n",
            "\n",
            "Enter your authorization code:\n",
            "··········\n",
            "Mounted at /content/drive\n"
          ],
          "name": "stdout"
        }
      ]
    },
    {
      "cell_type": "code",
      "metadata": {
        "colab_type": "code",
        "id": "aySW51Gy2U9c",
        "colab": {}
      },
      "source": [
        "import numpy as np # linear algebra\n",
        "import matplotlib.pyplot as plt # plotting\n",
        "import h5py # data loading for hdf5 dataset\n",
        "from PIL import Image # for loading your images for processing\n",
        "from scipy import ndimage \n",
        "import os\n"
      ],
      "execution_count": 0,
      "outputs": []
    },
    {
      "cell_type": "code",
      "metadata": {
        "colab_type": "code",
        "id": "cDUVDlzM1wx4",
        "colab": {}
      },
      "source": [
        "# implementing utility function for loading cat vs non-cat datasets\n",
        "def load_dataset():\n",
        "  train_dataset = h5py.File('datasets/train_catvnoncat.h5', \"r\")\n",
        "  test_dataset = h5py.File('datasets/test_catvnoncat.h5', \"r\")\n",
        "  train_set_x = np.array(train_dataset[\"train_set_x\"][:])\n",
        "  train_set_y = np.array(train_dataset[\"train_set_y\"][:])\n",
        "  test_set_x  = np.array(test_dataset[\"test_set_x\"][:])\n",
        "  test_set_y = np.array(test_dataset[\"test_set_y\"][:])\n",
        "  classes = np.array(train_dataset[\"list_classes\"][:])\n",
        "\n",
        "  # lets reshape the arrays\n",
        "  train_set_y = train_set_y.reshape((1, train_set_y.shape[0]))\n",
        "  test_set_y = test_set_y.reshape((1, test_set_y.shape[0]))\n",
        "\n",
        "  return train_set_x, train_set_y, test_set_x, test_set_y, classes"
      ],
      "execution_count": 0,
      "outputs": []
    },
    {
      "cell_type": "code",
      "metadata": {
        "colab_type": "code",
        "id": "bOx2AdCg2Hz9",
        "colab": {}
      },
      "source": [
        "# load training dataset\n",
        "x_train_images, y_train_images, x_test_images, y_test_images, classes = load_dataset()\n",
        "# x_train_images: (m, nx, ny, nc)\n",
        "# y_train_images: (1, m)"
      ],
      "execution_count": 0,
      "outputs": []
    },
    {
      "cell_type": "code",
      "metadata": {
        "colab_type": "code",
        "id": "cDRKs1aj2JOZ",
        "outputId": "38f13ba3-d9af-4581-9ca0-5bc9be7a5bd3",
        "colab": {
          "base_uri": "https://localhost:8080/",
          "height": 286
        }
      },
      "source": [
        "# lets inspect the dataset\n",
        "image_id = 25\n",
        "plt.imshow(x_train_images[image_id])\n",
        "print(\"y = \", y_train_images[0][image_id], \"Its a \" + classes[y_train_images[0][image_id]].decode(\"utf-8\") + \" picture!!\")"
      ],
      "execution_count": 0,
      "outputs": [
        {
          "output_type": "stream",
          "text": [
            "y =  1 Its a cat picture!!\n"
          ],
          "name": "stdout"
        },
        {
          "output_type": "display_data",
          "data": {
            "image/png": "[encoded data removed]",
            "text/plain": [
              "<Figure size 432x288 with 1 Axes>"
            ]
          },
          "metadata": {
            "tags": [],
            "needs_background": "light"
          }
        }
      ]
    },
    {
      "cell_type": "code",
      "metadata": {
        "colab_type": "code",
        "id": "vNE_Gu3_2owh",
        "outputId": "5e900223-9b7b-43ea-833c-2c737706cfa1",
        "colab": {
          "base_uri": "https://localhost:8080/",
          "height": 109
        }
      },
      "source": [
        "# lets inspect the shapes of the dataset arrays\n",
        "print(\"Training set shape: \", x_train_images.shape) #  m, nx, ny, nc\n",
        "print(\"Training set labels shape: \", y_train_images.shape) # 1, m\n",
        "print(\"Test set shape: \", x_test_images.shape)\n",
        "print(\"Test set labels shape: \", y_test_images.shape)\n",
        "print(\"Each image is of shape: \", x_train_images[0].shape)"
      ],
      "execution_count": 0,
      "outputs": [
        {
          "output_type": "stream",
          "text": [
            "Training set shape:  (209, 64, 64, 3)\n",
            "Training set labels shape:  (1, 209)\n",
            "Test set shape:  (50, 64, 64, 3)\n",
            "Test set labels shape:  (1, 50)\n",
            "Each image is of shape:  (64, 64, 3)\n"
          ],
          "name": "stdout"
        }
      ]
    },
    {
      "cell_type": "code",
      "metadata": {
        "colab_type": "code",
        "id": "Ttzc-UR52soz",
        "outputId": "3c2896df-3c93-4106-8b4f-e9a0431cb752",
        "colab": {
          "base_uri": "https://localhost:8080/",
          "height": 109
        }
      },
      "source": [
        "# Lets flatten the train and test image dataset for training\n",
        "x_train_images_flattened = x_train_images.reshape((x_train_images.shape[0], x_train_images.shape[1] * \n",
        "                                                   x_train_images.shape[2] * \n",
        "                                                   x_train_images.shape[3], 1)) \n",
        "x_train_images_flattened = np.squeeze(x_train_images_flattened)\n",
        "x_train_images_flattened = x_train_images_flattened.T\n",
        "x_test_images_flattened = x_test_images.reshape((x_test_images.shape[0], x_train_images.shape[1] * \n",
        "                                                 x_test_images.shape[2] * \n",
        "                                                 x_test_images.shape[3], 1))\n",
        "\n",
        "x_test_images_flattened = np.squeeze(x_test_images_flattened)\n",
        "x_test_images_flattened = x_test_images_flattened.T\n",
        "\n",
        "# lets print\n",
        "print(\"Flattened version of train images: \", x_train_images_flattened.shape)\n",
        "print(\"Label set for training dataset: \", y_train_images.shape)\n",
        "print(\"Flattened version of test images: \", x_test_images_flattened.shape)\n",
        "print(\"Label set for test dataset: \", y_test_images.shape)\n",
        "\n",
        "\n",
        "print(\"Sanity check after reshaping: \", x_train_images_flattened[0:5, 0])"
      ],
      "execution_count": 0,
      "outputs": [
        {
          "output_type": "stream",
          "text": [
            "Flattened version of train images:  (12288, 209)\n",
            "Label set for training dataset:  (1, 209)\n",
            "Flattened version of test images:  (12288, 50)\n",
            "Label set for test dataset:  (1, 50)\n",
            "Sanity check after reshaping:  [17 31 56 22 33]\n"
          ],
          "name": "stdout"
        }
      ]
    },
    {
      "cell_type": "code",
      "metadata": {
        "colab_type": "code",
        "id": "2d91AXMk2tq8",
        "colab": {}
      },
      "source": [
        "# normalization\n",
        "x_train_images = x_train_images_flattened / 255.0\n",
        "x_test_images = x_test_images_flattened / 255.0"
      ],
      "execution_count": 0,
      "outputs": []
    },
    {
      "cell_type": "code",
      "metadata": {
        "colab_type": "code",
        "id": "74fPCkiWyCkI",
        "colab": {}
      },
      "source": [
        "def sigmoid(z):\n",
        "  sig = 1 / (1 + np.exp(-z))\n",
        "  return sig"
      ],
      "execution_count": 0,
      "outputs": []
    },
    {
      "cell_type": "code",
      "metadata": {
        "colab_type": "code",
        "id": "QOYV-4ivlzfb",
        "colab": {}
      },
      "source": [
        "class TwoLayerNN(object):\n",
        "  def __init__(self, n_hidden_units):\n",
        "    # hyperparameters\n",
        "    self.n_hidden_units = n_hidden_units # len(self.n_hidden_units = number of layers)\n",
        "    self.n_epochs = 0\n",
        "    self.lr = 0\n",
        "    # parameters\n",
        "    self.w1 = 0\n",
        "    self.b1 = 0\n",
        "    self.w2 = 0\n",
        "    self.b2 = 0\n",
        "\n",
        "\n",
        "  def forward(self, X):\n",
        "    # layer 1\n",
        "    z1 = np.dot(self.w1, X) + self.b1\n",
        "    a1 = np.tanh(z1)\n",
        "    \n",
        "    # layer 2\n",
        "    z2 = np.dot(self.w2, a1) + self.b2\n",
        "    a2 = sigmoid(z2)\n",
        "\n",
        "    return a1, a2\n",
        "\n",
        "  def initialize_parameters(self, input_size):\n",
        "    self.w1 = np.random.randn(self.n_hidden_units[0], input_size) * 0.01\n",
        "    self.b1 = np.zeros((self.n_hidden_units[0], 1))\n",
        "    self.w2 = np.random.randn(self.n_hidden_units[1], self.n_hidden_units[0]) * 0.01\n",
        "    self.b2 = np.zeros((self.n_hidden_units[1], 1))\n",
        "    \n",
        "\n",
        "\n",
        "  def backward(self, A1, A2, X, Y):\n",
        "    '''\n",
        "    Notice that the only difference across layers lies in computation of dZ, \n",
        "    rest all can be parameterized on layer ID.\n",
        "    '''\n",
        "    m = X.shape[1]\n",
        "\n",
        "    dZ2 = A2 - Y # output layer\n",
        "    dw2 = np.dot(dZ2, A1.T) / m\n",
        "    db2 = np.mean(dZ2)\n",
        "    \n",
        "    dZ1 = np.dot(self.w2.T, dZ2) * (1 - np.power(A1, 2))\n",
        "    dw1 = np.dot(dZ1, X.T) / m\n",
        "    db1 = np.mean(dZ1)\n",
        "\n",
        "    return dw1, db1, dw2, db2\n",
        "\n",
        "  def update_parameters(self, dw1, db1, dw2, db2):\n",
        "    self.w1 = self.w1 - self.lr * dw1\n",
        "    self.b1 = self.b1 - self.lr * db1\n",
        "    self.w2 = self.w2 - self.lr * dw2\n",
        "    self.b2 = self.b2 - self.lr * db2\n",
        "\n",
        "\n",
        "  def compute_cost(self, A, Y):\n",
        "    cost = -float((np.dot(Y, np.log(A).T) + np.dot(1-Y, np.log(1-A).T))) / Y.shape[1]  \n",
        "    return cost\n",
        "  \n",
        "  def train(self, X, Y, lr = 0.001, n_epochs = 1000):\n",
        "    self.initialize_parameters(X.shape[0]) \n",
        "    self.lr = lr\n",
        "    self.n_epochs = n_epochs\n",
        "\n",
        "    for i in range(n_epochs):\n",
        "      A1, A2  = self.forward(X)\n",
        "      dw1, db1, dw2, db2 = self.backward(A1, A2, X, Y)     \n",
        "      self.update_parameters(dw1, db1, dw2, db2)\n",
        "      cost = self.compute_cost(A2, Y)\n",
        "      if (i % 100 == 0):\n",
        "        print(\"Cost at epoch: \", i, \"is: \", cost)\n",
        "    # save final parameters\n",
        "    try:  \n",
        "      os.mkdir(\"params\")  \n",
        "    except OSError as error:  \n",
        "      print(error)   \n",
        "    np.save(\"params/w1.npy\", self.w1)    \n",
        "    np.save(\"params/b1.npy\", self.b1)\n",
        "    np.save(\"params/w2.npy\", self.w2)\n",
        "    np.save(\"params/b2.npy\", self.b2)\n",
        "\n",
        "  def evaluate(self, X_test, Y_test):\n",
        "    self.w1 = np.load(\"params/w1.npy\")         \n",
        "    self.b1 = np.load(\"params/b1.npy\")\n",
        "    self.w2 = np.load(\"params/w2.npy\")\n",
        "    self.b2 = np.load(\"params/b2.npy\")\n",
        "\n",
        "    _, A_predict = self.forward(X_test)\n",
        "\n",
        "    Y_predict = (A_predict > 0.5)\n",
        "    accuracy = 100 * float(np.dot(Y_test, Y_predict.T) + \n",
        "                           np.dot(1-Y_test, (1-Y_predict).T)) / Y_test.shape[1]\n",
        "    print(\"Accuracy of trained model: \", accuracy)              \n",
        "   "
      ],
      "execution_count": 0,
      "outputs": []
    },
    {
      "cell_type": "code",
      "metadata": {
        "colab_type": "code",
        "id": "UsLDWSlcowUr",
        "colab": {}
      },
      "source": [
        "twoNN = TwoLayerNN(n_hidden_units = [7, 1])"
      ],
      "execution_count": 0,
      "outputs": []
    },
    {
      "cell_type": "code",
      "metadata": {
        "colab_type": "code",
        "id": "-JSuAEWMo04O",
        "outputId": "ce8d3d6f-42e9-43c3-d113-88f13bc70783",
        "colab": {
          "base_uri": "https://localhost:8080/",
          "height": 451
        }
      },
      "source": [
        "twoNN.train(x_train_images, y_train_images, lr = 0.0075, n_epochs = 2500)"
      ],
      "execution_count": 0,
      "outputs": [
        {
          "output_type": "stream",
          "text": [
            "Cost at epoch:  0 is:  0.6925732572537425\n",
            "Cost at epoch:  100 is:  0.6496883030701376\n",
            "Cost at epoch:  200 is:  0.6412165650881596\n",
            "Cost at epoch:  300 is:  0.6278579495819233\n",
            "Cost at epoch:  400 is:  0.6015550519072044\n",
            "Cost at epoch:  500 is:  0.5621130154731159\n",
            "Cost at epoch:  600 is:  0.5134103983299865\n",
            "Cost at epoch:  700 is:  0.45991319207777753\n",
            "Cost at epoch:  800 is:  0.4042203172119329\n",
            "Cost at epoch:  900 is:  0.3511061137237675\n",
            "Cost at epoch:  1000 is:  0.3623072589718516\n",
            "Cost at epoch:  1100 is:  0.31654212145440463\n",
            "Cost at epoch:  1200 is:  0.27903809146365904\n",
            "Cost at epoch:  1300 is:  0.2443853473870132\n",
            "Cost at epoch:  1400 is:  0.21082335948320144\n",
            "Cost at epoch:  1500 is:  0.17870469456304985\n",
            "Cost at epoch:  1600 is:  0.14233455415208388\n",
            "Cost at epoch:  1700 is:  0.12362876465814868\n",
            "Cost at epoch:  1800 is:  0.10985738636964573\n",
            "Cost at epoch:  1900 is:  0.09829515114787374\n",
            "Cost at epoch:  2000 is:  0.08825006109665892\n",
            "Cost at epoch:  2100 is:  0.0794286273937023\n",
            "Cost at epoch:  2200 is:  0.07174949057488234\n",
            "Cost at epoch:  2300 is:  0.06517910832643618\n",
            "Cost at epoch:  2400 is:  0.059555757114188944\n"
          ],
          "name": "stdout"
        }
      ]
    },
    {
      "cell_type": "code",
      "metadata": {
        "colab_type": "code",
        "id": "hKsvpg67o2we",
        "outputId": "18a5f538-f28b-4a7d-b7e2-980f02ea81e0",
        "colab": {
          "base_uri": "https://localhost:8080/",
          "height": 34
        }
      },
      "source": [
        "# train accuracy\n",
        "twoNN.evaluate(x_train_images, y_train_images)"
      ],
      "execution_count": 0,
      "outputs": [
        {
          "output_type": "stream",
          "text": [
            "Accuracy of trained model:  100.0\n"
          ],
          "name": "stdout"
        }
      ]
    },
    {
      "cell_type": "code",
      "metadata": {
        "colab_type": "code",
        "id": "hzh7jdQ8_r74",
        "outputId": "98a2f406-478a-41d2-bcda-fd201e1edbc2",
        "colab": {
          "base_uri": "https://localhost:8080/",
          "height": 34
        }
      },
      "source": [
        "# test accuracy\n",
        "twoNN.evaluate(x_test_images, y_test_images)"
      ],
      "execution_count": 0,
      "outputs": [
        {
          "output_type": "stream",
          "text": [
            "Accuracy of trained model:  72.0\n"
          ],
          "name": "stdout"
        }
      ]
    },
    {
      "cell_type": "markdown",
      "metadata": {
        "colab_type": "text",
        "id": "gBGjDbJH0bOe"
      },
      "source": [
        "## Generalizing to L-layer NN\n",
        "Now we want to generalize the above 2-layer NN to a L-layer NN, the interface should be such that:\n",
        "\n",
        "* For L=2 and keeping other hyper-parameters same, we should be able to reproduce  the results obtained above. In other words, training a `LLayerNN(n_hidden_units = [7, 1])` network as `lllayerNN.train(x_train_images, y_train_images, lr = 0.0075, n_epochs = 2500)` should result in $72\\%$ test and $100\\%$ train accuracy.\n",
        "*   NN should be implemented by stacking layer along both forward and backward directions:\n",
        "  * forward:  \n",
        "      * Layers:\n",
        "        * hidden layers with tanh/relu activation\n",
        "        * output layer with sigmoid activation\n",
        "      * Input:\n",
        "        * activation from last layer\n",
        "        * weight(and bias) matrix for current layer\n",
        "      * Output:\n",
        "        * activation from current layer        \n",
        "  * backward:\n",
        "      * Layers:\n",
        "        * hidden backward propogation layer\n",
        "        * output bacwkard propogation layer\n",
        "      * Input:\n",
        "        * activation from successive layer\n",
        "        * weight metrix from successive layer\n",
        "        * gradients from successive layer\n",
        "      * Output:\n",
        "        * gradients for current layer, $dw$, $db$ and $dz$.        "
      ]
    },
    {
      "cell_type": "code",
      "metadata": {
        "colab_type": "code",
        "id": "RSRgvnZM0hJw",
        "colab": {}
      },
      "source": [
        "# Assumes a binary problem.\n",
        "class LLayerNN(object):\n",
        "  def __init__(self, n_hidden_units):\n",
        "    self.w = [] # (n_hidden_layers + 1)\n",
        "    self.b = [] \n",
        "    self.dw = [] # same as w\n",
        "    self.db = []\n",
        "    self.dz = []\n",
        "    self.a = [] # (n_hidden_layers + 1)\n",
        "    self.lr = 0\n",
        "    self.n_hidden_units = n_hidden_units #total number of layers, n_hidden_units + 1\n",
        "    \n",
        "  def initialize_parameters(self, input_size):\n",
        "    # w[0], b[0]\n",
        "    self.w.append(np.random.rand(self.n_hidden_units[0], input_size) * 0.01)\n",
        "    self.b.append(np.zeros((self.n_hidden_units[0], 1)))\n",
        "    # w[1] to w[n_hidden_layers - 1]\n",
        "    n_hidden_layers = len(self.n_hidden_units)\n",
        "    for i in range(1,  n_hidden_layers): \n",
        "    #(1 for last hidden layer, 1 for output layer)                                         \n",
        "      self.w.append(np.random.randn(self.n_hidden_units[i], \n",
        "                                  self.n_hidden_units[i-1]) * 0.01)\n",
        "      self.b.append(np.zeros((self.n_hidden_units[i], 1)))\n",
        "    # output layer, assuming binary classification\n",
        "    self.w.append(np.random.rand(1, self.n_hidden_units[n_hidden_layers - 1]) * 0.01)\n",
        "    self.b.append(np.zeros((1, 1)))   \n",
        "    \n",
        "    \n",
        "\n",
        "  def forward_propogation(self, layer_id, activation = None):\n",
        "    \n",
        "    z = np.dot(self.w[layer_id], self.a[layer_id - 1]) + self.b[layer_id]      \n",
        "\n",
        "    if (activation == 'tanh'):\n",
        "      self.a.append(np.tanh(z))\n",
        "    if (activation == 'relu'):\n",
        "      self.a.append(np.maximum(0, z))      \n",
        "    if (activation == 'sigmoid'):    \n",
        "      self.a.append(sigmoid(z))\n",
        "\n",
        "  def backward_propogation(self, X, layer_id, activation = None):\n",
        "    \n",
        "    if activation == 'tanh':\n",
        "      da_dz = (1 - np.power(self.a[layer_id], 2))\n",
        "    if activation == 'relu':\n",
        "      da_dz = None #TODO     \n",
        "    # No need of da_dz when activation is sigmoid, dz[0] is actually linear activation from output layer :( \n",
        "    self.dz.append(np.dot(self.w[layer_id+1].T, self.dz[len(self.n_hidden_units) - layer_id - 1]) * da_dz)       \n",
        "    if (layer_id > 0):\n",
        "      self.dw.append(np.dot(self.dz[len(self.n_hidden_units)  - layer_id], self.a[layer_id - 1].T) / X.shape[1])\n",
        "    else:\n",
        "      self.dw.append(np.dot(self.dz[len(self.n_hidden_units)  - layer_id], X.T) / X.shape[1])              \n",
        "    self.db.append(np.mean(self.dz[len(self.n_hidden_units)  - layer_id]))      \n",
        "    \n",
        "\n",
        "  def update_parameters(self, layer_id):\n",
        "    \n",
        "    #t = self.w[layer_id]\n",
        "    self.w[layer_id] = self.w[layer_id] - self.lr * self.dw[len(self.n_hidden_units) - layer_id]\n",
        "    self.b[layer_id] = self.b[layer_id] - self.lr * self.db[len(self.n_hidden_units)  - layer_id]\n",
        "    #print(\"ids: \", layer_id, len(self.n_hidden_units) - layer_id)\n",
        "\n",
        "  def compute_cost(self, Y):\n",
        "    last_layer_id = len(self.n_hidden_units)\n",
        "    cost = -float(np.dot(Y, np.log(self.a[last_layer_id]).T) + np.dot(1 - Y, np.log(1 - self.a[last_layer_id]).T)) / Y.shape[1] #averaged over all samples\n",
        "    return cost  \n",
        "\n",
        "  def train(self, X, Y, learning_rate = 0.001, n_epochs = 1000):\n",
        "      \n",
        "    self.initialize_parameters(X.shape[0]) # initializes parameters for all layers.\n",
        "      \n",
        "    self.lr = learning_rate\n",
        "    n_hidden_layers = len(self.n_hidden_units)\n",
        "      \n",
        "    for i in range(n_epochs):\n",
        "      z = np.dot(self.w[0], X) + self.b[0] # should not be like this :(\n",
        "      self.a.append(np.tanh(z)) \n",
        "      for l in range(1, n_hidden_layers):\n",
        "        self.forward_propogation(l, activation = 'tanh')\n",
        "      # for output layer\n",
        "      self.forward_propogation(n_hidden_layers, activation = 'sigmoid')   \n",
        "      \n",
        "      # backprop for the output layer\n",
        "      self.dz.append(self.a[n_hidden_layers] - Y) # assuming sigmoid activation\n",
        "      self.dw.append(np.dot(self.dz[0], self.a[n_hidden_layers - 1].T) / X.shape[1])\n",
        "      self.db.append(np.mean(self.dz[0]))\n",
        "\n",
        "      for l in range(n_hidden_layers  - 1 , -1, -1):\n",
        "        self.backward_propogation(X, l, activation = 'tanh') \n",
        "      \n",
        "      for l in range(n_hidden_layers + 1):\n",
        "        self.update_parameters(l)  \n",
        "      cost = self.compute_cost(Y) # ends the epoch\n",
        "      if (i % 1000 == 0):\n",
        "        print(\"Cost at epoch: \", i, \"is: \", cost)"
      ],
      "execution_count": 0,
      "outputs": []
    },
    {
      "cell_type": "code",
      "metadata": {
        "colab_type": "code",
        "id": "DQ3hBkSFEoS-",
        "colab": {}
      },
      "source": [
        "llayernn = LLayerNN(n_hidden_units = [20, 7, 5]) # 3 hidden layers"
      ],
      "execution_count": 0,
      "outputs": []
    },
    {
      "cell_type": "code",
      "metadata": {
        "colab_type": "code",
        "id": "xuNqITSnErnG",
        "outputId": "34a564ae-b85e-4bee-a95c-c2a7eace00e2",
        "colab": {
          "base_uri": "https://localhost:8080/",
          "height": 69
        }
      },
      "source": [
        "llayernn.train(x_train_images, y_train_images, learning_rate = 0.0075, n_epochs = 3000)"
      ],
      "execution_count": 0,
      "outputs": [
        {
          "output_type": "stream",
          "text": [
            "Cost at epoch:  0 is:  0.6931491328891869\n",
            "Cost at epoch:  1000 is:  0.6931491328891869\n",
            "Cost at epoch:  2000 is:  0.6931491328891869\n"
          ],
          "name": "stdout"
        }
      ]
    },
    {
      "cell_type": "markdown",
      "metadata": {
        "colab_type": "text",
        "id": "1hIl4vX91YvM"
      },
      "source": [
        "## Implementation based on dictionary\n",
        "In the above implmentation, parameters are shared as global attributes of `LLayerNN` class. The implementation gets messy because `dz, dw` gets calculated in reverse order with respect to `a`, hence maintaining them in lists results in indexing chaos.  \n",
        "In the following implementation of`LLayerNN` class we will share the parameters of the network using `dicts`, or the string-key based dictionary of parameters, similar to the Coursera assignments."
      ]
    },
    {
      "cell_type": "code",
      "metadata": {
        "colab_type": "code",
        "id": "tirR0G_J2Rad",
        "outputId": "ee28b234-5b10-41c4-baa5-4e07b69a8856",
        "colab": {
          "base_uri": "https://localhost:8080/",
          "height": 54
        }
      },
      "source": [
        "'''\n",
        "Assumes one-node output layer.\n",
        "'''\n",
        "class LLayerNN(object):\n",
        "  def __init__(self, n_hidden_units):\n",
        "    self.parameters = {}\n",
        "    self.n_hidden_units = n_hidden_units\n",
        "    self.n_layers = len(self.n_hidden_units) + 1\n",
        "    self.lr = -1\n",
        "\n",
        "\n",
        "  def initialize_parameters(self, input_size):\n",
        "    scale_factor = 0.01\n",
        "    self.parameters[\"w0\"] = np.random.randn(self.n_hidden_units[0], \\\n",
        "                                       input_size) * scale_factor\n",
        "    self.parameters[\"b0\"] = np.zeros((self.n_hidden_units[0], 1))                                       \n",
        "    for i in range(1, self.n_layers - 1):\n",
        "      self.parameters[\"w\" + str(i)] = np.random.randn(self.n_hidden_units[i],\n",
        "                                            self.n_hidden_units[i - 1]) * \\\n",
        "                                            scale_factor\n",
        "      self.parameters[\"b\" + str(i)] = np.zeros((self.n_hidden_units[i], 1))\n",
        "      #print(\"W\", i, \" is: \", self.parameters[\"w\" + str(i)])\n",
        "      \n",
        "    self.parameters[\"w\" + str(self.n_layers - 1)] = np.random.randn(1,\n",
        "                                 self.n_hidden_units[self.n_layers - 2]) \\\n",
        "                                 * scale_factor\n",
        "    self.parameters[\"b\" + str(self.n_layers - 1)] = np.zeros((1, 1))                                                                                         \n",
        "      \n",
        "\n",
        "  def forward(self, layer_id, X, activation = None):\n",
        "    # linear block\n",
        "    if (layer_id > 0):\n",
        "      z = np.dot(self.parameters[\"w\" + str(layer_id)], \\\n",
        "                 self.parameters[\"a\" + str(layer_id - 1)]) + \\\n",
        "                 self.parameters[\"b\" + str(layer_id)] # broadcasting!!\n",
        "    else:\n",
        "      z = np.dot(self.parameters[\"w\" + str(layer_id)], \n",
        "                 X) + self.parameters[\"b\" + str(layer_id)]\n",
        "\n",
        "    # activation block \n",
        "    if (activation == 'tanh'):\n",
        "      self.parameters[\"a\" + str(layer_id)] = np.tanh(z)\n",
        "      #print(\"tanh\")\n",
        "    if (activation == 'relu'):\n",
        "      self.parameters[\"a\" + str(layer_id)] = np.maximum(0, z)   \n",
        "      #print(\"layer: \", layer_id, \" relu forward\")   \n",
        "    if (activation == 'sigmoid'):\n",
        "      self.parameters['a' + str(layer_id)] = sigmoid(z)  \n",
        "      #print(\"layer: \", layer_id,\" sigmoid forward\") \n",
        "    \n",
        "    #print(\"b[\" + str(layer_id) + \"] = \", self.parameters[\"b\" + str(layer_id)].shape)\n",
        "    #print(\"z[\" + str(layer_id) + \"] = \", z.shape)\n",
        "    #print(\"a[\" + str(layer_id) + \"] = \", self.parameters[\"a\" + str(layer_id)].shape)\n",
        "\n",
        "  def backward(self, layer_id, X, Y, activation = None):\n",
        "    # activation block\n",
        "    if (layer_id == self.n_layers - 1 and activation == 'sigmoid'):#output layer\n",
        "      self.parameters[\"dz\" + str(layer_id)] = \\\n",
        "      self.parameters[\"a\" + str(layer_id)] - Y # (1, M) - (1, M) = (1,M)\n",
        "      #print(\"layer: \", layer_id,\" sigmoid backwards\")\n",
        "    elif (layer_id < self.n_layers - 1 ):\n",
        "      if (activation == 'relu'):\n",
        "        da_dz = np.squeeze(np.asarray([self.parameters[\"a\" + str(layer_id)] > 0])) # (n_units, M)\n",
        "        #print(\"da_dz: \", da_dz.shape)\n",
        "        #print(\"layer: \", layer_id, \" relu backwards\") \n",
        "      elif (activation == 'tanh'): # untestedt TODO\n",
        "        da_dz = 1 - np.power(self.parameters[\"a\" + str(layer_id)], 2)\n",
        "      elif (activation == 'sigmoid'): # untested, TODO\n",
        "        da_dz = self.parameters[\"a\" + str(layer_id)] * \\\n",
        "      (1 - self.parameters[\"a\" + str(layer_id)])\n",
        "      else:\n",
        "        raise ValueError(\"Invalid choice of arguments\") # untested, TODO\n",
        "\n",
        "      dl_da = np.dot(self.parameters[\"w\" + str(layer_id + 1)].T, \\\n",
        "                   self.parameters[\"dz\" + str(layer_id + 1)])\n",
        "      #print(\"dl_da: \", dl_da.shape) # (n_units[l] , n_units[l+1]) X (n_units[l+1], M)\n",
        "      self.parameters[\"dz\" + str(layer_id)] =  dl_da * da_dz # (n_units[l] , M) X (n_units[l], M)\n",
        "      #print(\"dz[\" + str(layer_id) + \"]\", self.parameters[\"dz\" + str(layer_id)].shape)\n",
        "\n",
        "    assert(self.parameters[\"dz\" + str(layer_id)].shape == \\\n",
        "           self.parameters[\"a\" + str(layer_id)].shape)   \n",
        "    #linear block\n",
        "    if(layer_id > 0):\n",
        "      self.parameters[\"dw\" + str(layer_id)] = \\\n",
        "      np.dot(self.parameters[\"dz\" + str(layer_id)], \\\n",
        "             self.parameters[\"a\" + str(layer_id - 1)].T) / Y.shape[1] # across all examples\n",
        "    else: # input layer\n",
        "      self.parameters[\"dw0\"] = \\\n",
        "      np.dot(self.parameters[\"dz\" + str(layer_id)], X.T)  / Y.shape[1] # across all examples\n",
        "  \n",
        "    #print(\"dw: \", self.parameters[\"dw\" + str(layer_id)].shape)\n",
        "    #print(\"w: \", self.parameters[\"w\" + str(layer_id)].shape)\n",
        "    assert(self.parameters[\"dw\" + str(layer_id)].shape == \\\n",
        "           self.parameters[\"w\" + str(layer_id)].shape)\n",
        "    \n",
        "    self.parameters[\"db\" + str(layer_id)] = \\\n",
        "    np.mean(self.parameters[\"dz\" + str(layer_id)], axis = -1).T.\\\n",
        "    reshape(self.parameters[\"b\" + str(layer_id)].shape)  # across all examples\n",
        "    \n",
        "    #print(\"db: \", self.parameters[\"db\" + str(layer_id)].shape)\n",
        "    #print(\"b: \", self.parameters[\"b\" + str(layer_id)].shape)\n",
        "    #assert(self.parameters[\"db\" + str(layer_id)].shape == \\\n",
        "    #       self.parameters[\"b\" + str(layer_id)].shape)\n",
        "\n",
        "    \n",
        "  def update_parameters(self, layer_id):\n",
        "    self.parameters[\"w\" + str(layer_id)] = self.parameters[\"w\" + str(layer_id)] \\\n",
        "    - self.lr * self.parameters[\"dw\" + str(layer_id)]\n",
        "\n",
        "    self.parameters[\"b\" + str(layer_id)] = self.parameters[\"b\" + str(layer_id)] \\\n",
        "    - self.lr * self.parameters[\"db\" + str(layer_id)]\n",
        "\n",
        "\n",
        "  def compute_cost(self, Y):\n",
        "    cost = \\\n",
        "    -float(np.dot(Y, np.log(self.parameters[\"a\" + str(self.n_layers-1)]).T) \\\n",
        "           + np.dot(1 - Y, np.log(1 - self.parameters[\"a\" + \\\n",
        "                                                      str(self.n_layers-1)]).T)) \\\n",
        "                   / Y.shape[1]                \n",
        "    return cost\n",
        "\n",
        "  def train(self, X, Y, learning_rate = 0.001, n_epochs = 3000):\n",
        "    np.random.seed(1)\n",
        "    self.initialize_parameters(X.shape[0])\n",
        "    self.lr = learning_rate\n",
        "    \n",
        "    for i in range(n_epochs):\n",
        "    #for i in range(2):\n",
        "      # forward\n",
        "      for l in range(self.n_layers):\n",
        "        if (l == self.n_layers - 1):\n",
        "          self.forward(l,X, activation='sigmoid')\n",
        "        else:  \n",
        "          self.forward(l,X, activation='relu')\n",
        "      # backward\n",
        "      for l in range(self.n_layers - 1, -1, -1):\n",
        "        if(l == self.n_layers -1):\n",
        "          self.backward(l, X, Y,activation='sigmoid')\n",
        "        else:  \n",
        "          self.backward(l,X,Y,activation='relu')\n",
        "      for l in range(self.n_layers):\n",
        "        self.update_parameters(l)\n",
        "      cost = self.compute_cost(Y)\n",
        "      if (i % 100 == 0):\n",
        "        print(\"Cost at epoch: \", i, \"is: \", cost)  \n",
        "'''\n",
        "  def grad_check(X, Y, ephsilon, threshold):\n",
        "    # set random param values for testing\n",
        "    initialize_parameters(X.shape[0])\n",
        "    \n",
        "    # compute number of params\n",
        "    n_params = 0\n",
        "    for l in range(self.n_layers):\n",
        "      for i in range(self.parameters[\"w\" + str(l)].shape[0]):\n",
        "        for j in range(self.parameters[\"w\" + str(l).shape[1]]):\n",
        "          n_params += 1 \n",
        "    \n",
        "    \n",
        "    J_plus = np.array((n_params, 1)) \n",
        "    J_minus = np.array((n_params, 1))\n",
        "    j_plus_index = 0 # counters\n",
        "    j_minus_index = 0\n",
        "\n",
        "    # for each parameter of the network\n",
        "    for l in range(self.n_layers):\n",
        "      # compute J plus\n",
        "      # \"w\" parameter\n",
        "      for i in range(self.parameters[\"w\" + str(l)].shape[0]):\n",
        "        for j in range(self.parameters[\"w\" + str(l).shape[1]]):\n",
        "          self.parameters[\"w\" + str(l)][i][j] += ephsilon  \n",
        "          forward(l, X, Y)\n",
        "          J_plus[j_index++] = compute_cost(Y)\n",
        "          self.parameters[\"w\" + str(l)][i][j] -= ephsilon\n",
        "      # \"b\" parameter\n",
        "      for i in range(self.parameters[\"b\" + str(l)].shape[0]):\n",
        "        for j in range(self.parameters[\"b\" + str(l).shape[1]]):\n",
        "          self.parameters[\"b\" + str(l)][i][j] += ephsilon  \n",
        "          forward(l, X, Y)\n",
        "          J_plus[j_index++] = compute_cost(Y)\n",
        "          self.parameters[\"b\" + str(l)][i][j] -= ephsilon\n",
        "      # compute J minus\n",
        "      # \"w\" parameter\n",
        "      for i in range(self.parameters[\"w\" + str(l)].shape[0]):\n",
        "        for j in range(self.parameters[\"w\" + str(l).shape[1]]):\n",
        "          self.parameters[\"w\" + str(l)][i][j] -= ephsilon  \n",
        "          forward(l, X, Y)\n",
        "          J_minus[j_minus_index++] = compute_cost(Y)\n",
        "          self.parameters[\"w\" + str(l)][i][j] += ephsilon\n",
        "      # \"b\" parameter\n",
        "      for i in range(self.parameters[\"b\" + str(l)].shape[0]):\n",
        "        for j in range(self.parameters[\"b\" + str(l).shape[1]]):\n",
        "          self.parameters[\"b\" + str(l)][i][j] -= ephsilon  \n",
        "          forward(l, X, Y)\n",
        "          J_minus[j_minus_index++] = compute_cost(Y)\n",
        "          self.parameters[\"b\" + str(l)][i][j] += ephsilon\n",
        "    # compute numerical gradient      \n",
        "    grad_numerical = J_plus - J_minus / 2 * ephsilon\n",
        "\n",
        "    # compute backprop gradient\n",
        "    grad_index = 0\n",
        "    for l in range(self.n_layers):\n",
        "      forward(l, X, Y)\n",
        "      backward(l, X, Y)\n",
        "      # collect gradients in an array\n",
        "      # for 'w'\n",
        "      for i in range(self.parameters[\"dw\" + str(l)].shape[0]):\n",
        "        for j in range(self.parameters[\"dw\" + str(l)].shape[1]):\n",
        "          grad_brackprop[grad_index++] = self.parameters[\"dw\" + str(l)][i][j]   \n",
        "      # similarly for 'b'\n",
        "      for i in range(self.parameters[\"db\" + str(l)].shape[0]):\n",
        "        for j in range(self.parameters[\"db\" + str(l)].shape[1]):\n",
        "          grad_brackprop[grad_index] = self.parameters[\"db\" + str(l)][i][j]  \n",
        "    \n",
        "    # compute difference\n",
        "    diff_num = # TODO\n",
        "    diff_den = # TODO\n",
        "    diff = diff_num / diff_den\n",
        "\n",
        "    if diff < threshold:\n",
        "      print(\"Gradients are fine!!\")\n",
        "    else:\n",
        "      print(\"Please check gradients!!\") \n",
        " '''      "
      ],
      "execution_count": 0,
      "outputs": [
        {
          "output_type": "execute_result",
          "data": {
            "text/plain": [
              "'\\n  def grad_check(X, Y, ephsilon, threshold):\\n    # set random param values for testing\\n    initialize_parameters(X.shape[0])\\n    \\n    # compute number of params\\n    n_params = 0\\n    for l in range(self.n_layers):\\n      for i in range(self.parameters[\"w\" + str(l)].shape[0]):\\n        for j in range(self.parameters[\"w\" + str(l).shape[1]]):\\n          n_params += 1 \\n    \\n    \\n    J_plus = np.array((n_params, 1)) \\n    J_minus = np.array((n_params, 1))\\n    j_plus_index = 0 # counters\\n    j_minus_index = 0\\n\\n    # for each parameter of the network\\n    for l in range(self.n_layers):\\n      # compute J plus\\n      # \"w\" parameter\\n      for i in range(self.parameters[\"w\" + str(l)].shape[0]):\\n        for j in range(self.parameters[\"w\" + str(l).shape[1]]):\\n          self.parameters[\"w\" + str(l)][i][j] += ephsilon  \\n          forward(l, X, Y)\\n          J_plus[j_index++] = compute_cost(Y)\\n          self.parameters[\"w\" + str(l)][i][j] -= ephsilon\\n      # \"b\" parameter\\n      for i in range(self.parameters[\"b\" + str(l)].shape[0]):\\n        for j in range(self.parameters[\"b\" + str(l).shape[1]]):\\n          self.parameters[\"b\" + str(l)][i][j] += ephsilon  \\n          forward(l, X, Y)\\n          J_plus[j_index++] = compute_cost(Y)\\n          self.parameters[\"b\" + str(l)][i][j] -= ephsilon\\n      # compute J minus\\n      # \"w\" parameter\\n      for i in range(self.parameters[\"w\" + str(l)].shape[0]):\\n        for j in range(self.parameters[\"w\" + str(l).shape[1]]):\\n          self.parameters[\"w\" + str(l)][i][j] -= ephsilon  \\n          forward(l, X, Y)\\n          J_minus[j_minus_index++] = compute_cost(Y)\\n          self.parameters[\"w\" + str(l)][i][j] += ephsilon\\n      # \"b\" parameter\\n      for i in range(self.parameters[\"b\" + str(l)].shape[0]):\\n        for j in range(self.parameters[\"b\" + str(l).shape[1]]):\\n          self.parameters[\"b\" + str(l)][i][j] -= ephsilon  \\n          forward(l, X, Y)\\n          J_minus[j_minus_index++] = compute_cost(Y)\\n          self.parameters[\"b\" + str(l)][i][j] += ephsilon\\n    # compute numerical gradient      \\n    grad_numerical = J_plus - J_minus / 2 * ephsilon\\n\\n    # compute backprop gradient\\n    grad_index = 0\\n    for l in range(self.n_layers):\\n      forward(l, X, Y)\\n      backward(l, X, Y)\\n      # collect gradients in an array\\n      # for \\'w\\'\\n      for i in range(self.parameters[\"dw\" + str(l)].shape[0]):\\n        for j in range(self.parameters[\"dw\" + str(l)].shape[1]):\\n          grad_brackprop[grad_index++] = self.parameters[\"dw\" + str(l)][i][j]   \\n      # similarly for \\'b\\'\\n      for i in range(self.parameters[\"db\" + str(l)].shape[0]):\\n        for j in range(self.parameters[\"db\" + str(l)].shape[1]):\\n          grad_brackprop[grad_index] = self.parameters[\"db\" + str(l)][i][j]  \\n    \\n    # compute difference\\n    diff_num = # TODO\\n    diff_den = # TODO\\n    diff = diff_num / diff_den\\n\\n    if diff < threshold:\\n      print(\"Gradients are fine!!\")\\n    else:\\n      print(\"Please check gradients!!\") \\n '"
            ]
          },
          "metadata": {
            "tags": []
          },
          "execution_count": 58
        }
      ]
    },
    {
      "cell_type": "code",
      "metadata": {
        "colab_type": "code",
        "id": "YkAVJgR22rzn",
        "colab": {}
      },
      "source": [
        "llayernn = LLayerNN(n_hidden_units = [10, 2]) "
      ],
      "execution_count": 0,
      "outputs": []
    },
    {
      "cell_type": "code",
      "metadata": {
        "colab_type": "code",
        "id": "2u5L19ii2wGb",
        "outputId": "4dc32eba-6f00-445e-b47e-638759461f3d",
        "colab": {
          "base_uri": "https://localhost:8080/",
          "height": 451
        }
      },
      "source": [
        "llayernn.train(x_train_images, y_train_images, learning_rate = 0.0075, \n",
        "               n_epochs = 2500)"
      ],
      "execution_count": 90,
      "outputs": [
        {
          "output_type": "stream",
          "text": [
            "Cost at epoch:  0 is:  0.6931471805599453\n",
            "Cost at epoch:  100 is:  0.6780108959202529\n",
            "Cost at epoch:  200 is:  0.6675999388084993\n",
            "Cost at epoch:  300 is:  0.6604220643951918\n",
            "Cost at epoch:  400 is:  0.6554579973905994\n",
            "Cost at epoch:  500 is:  0.6520136220675031\n",
            "Cost at epoch:  600 is:  0.6496159559767932\n",
            "Cost at epoch:  700 is:  0.6479418524023932\n",
            "Cost at epoch:  800 is:  0.6467697350039253\n",
            "Cost at epoch:  900 is:  0.6459470665090711\n",
            "Cost at epoch:  1000 is:  0.6453684178640406\n",
            "Cost at epoch:  1100 is:  0.6449606430092288\n",
            "Cost at epoch:  1200 is:  0.6446728162416298\n",
            "Cost at epoch:  1300 is:  0.6444693704455013\n",
            "Cost at epoch:  1400 is:  0.6443253956966325\n",
            "Cost at epoch:  1500 is:  0.644223403173138\n",
            "Cost at epoch:  1600 is:  0.644151088039195\n",
            "Cost at epoch:  1700 is:  0.6440997768087867\n",
            "Cost at epoch:  1800 is:  0.6440633459354944\n",
            "Cost at epoch:  1900 is:  0.644037466237283\n",
            "Cost at epoch:  2000 is:  0.644019073517953\n",
            "Cost at epoch:  2100 is:  0.6440059967722614\n",
            "Cost at epoch:  2200 is:  0.643996696518268\n",
            "Cost at epoch:  2300 is:  0.6439900803034139\n",
            "Cost at epoch:  2400 is:  0.643985372420969\n"
          ],
          "name": "stdout"
        }
      ]
    },
    {
      "cell_type": "markdown",
      "metadata": {
        "id": "b0lXrIB7SKpV",
        "colab_type": "text"
      },
      "source": [
        "## Debugging backprop implementation\n",
        "We can get a fair idea of the reasonability of our Backpropogation implementation by comparing it with numerical gradient estimation techniques. Neural network estimates n-dimensional function which maps a input image(in our case) to _cat_ or _no-cat_ label.  \n",
        "In short, we implement the technique described [here](https://youtu.be/QrzApibhohY).  Before I implement this, let us plan:\n",
        "\n",
        "```\n",
        "def convert_dict_to_vec(params_dict):\n",
        "  '''\n",
        "  converts input dictionary to vector  \n",
        "  params_dict: (\"param_string\", param_matrix)\n",
        "  steps:\n",
        "    1. for each element(a matrix) in dictionary:\n",
        "      1.1. compute number of elements in that matrix:\n",
        "         1.1.1. for each element:\n",
        "              1.1.1.1 add that element to params_vect\n",
        "  '''\n",
        "  params_vect = np.array()\n",
        "  return params_vect\n",
        "\n",
        "def convert_vec_to_dict(params_vect):\n",
        "  return params_dict\n",
        "\n",
        "def gradient_check(X, Y, ephsilon, diff_threshold):\n",
        "  parameters = initialize_params()\n",
        "  n_params = count_total_number_of_parameters(parameters)\n",
        "  \n",
        "  # numerical approximation\n",
        "  for param_id in range(n_params):\n",
        "    param_vector = convert_dict_to_vector(parameters)\n",
        "    # cost plus\n",
        "    param_vector[param_id] += epsilon\n",
        "    parameters = convert_vector_to_dict(param_vector)\n",
        "    J_plus = forward(parameters)\n",
        "    # cost_minus\n",
        "    param_vector = convert_dict_to_vector(parameters)\n",
        "    # cost minus\n",
        "    param_vector[param_id] -= epsilon\n",
        "    parameters = convert_vector_to_dict(param_vector)\n",
        "    J_minus = forward(parameters)\n",
        "    grad_numerical[param_id] = (J_plus - J_mins) \\\n",
        "    / 2 * epsilon\n",
        "  \n",
        "  # backprop\n",
        "  forward(parameters)\n",
        "  grad_backprop = backward(parameters)\n",
        "\n",
        "  # compute difference \n",
        "  diff_numerator = np.linalg.norm(grad_backprop \\\n",
        "  - grad_numerical)\n",
        "  diff_denominator = np.linalg.norm(grad_backprop) + \\\n",
        "  np.linalg.norm(grad_numerical) \n",
        "  differance = diff_numerator / diff_denominator\n",
        "\n",
        "  if difference < 2e-7:\n",
        "    print(\"Grad is fine!!\")\n",
        "  else:\n",
        "    print(\"Check Grad!!\")  \n",
        "\n",
        "```\n",
        "\n"
      ]
    },
    {
      "cell_type": "code",
      "metadata": {
        "id": "4QO3vLBsBP0W",
        "colab_type": "code",
        "colab": {}
      },
      "source": [
        "llayernn.gradient_check(x_train_images, y_train_images)"
      ],
      "execution_count": 0,
      "outputs": []
    }
  ]
}