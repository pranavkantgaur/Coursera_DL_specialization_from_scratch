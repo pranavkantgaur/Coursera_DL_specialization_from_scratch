{
  "nbformat": 4,
  "nbformat_minor": 0,
  "metadata": {
    "colab": {
      "name": "build_nn_step_by_step.ipynb",
      "provenance": [],
      "collapsed_sections": [],
      "toc_visible": true,
      "authorship_tag": "ABX9TyO+VPVmTRq5bC0wgQ0XWIjD",
      "include_colab_link": true
    },
    "kernelspec": {
      "name": "python3",
      "display_name": "Python 3"
    }
  },
  "cells": [
    {
      "cell_type": "markdown",
      "metadata": {
        "id": "view-in-github",
        "colab_type": "text"
      },
      "source": [
        "<a href=\"https://colab.research.google.com/github/pranavkantgaur/Coursera_DL_specialization_from_scratch/blob/master/course1/week4/build_nn_step_by_step.ipynb\" target=\"_parent\"><img src=\"https://colab.research.google.com/assets/colab-badge.svg\" alt=\"Open In Colab\"/></a>"
      ]
    },
    {
      "cell_type": "markdown",
      "metadata": {
        "id": "k89MutsNmCu4",
        "colab_type": "text"
      },
      "source": [
        "## Objectives\n",
        "To be able to build and train NNs for various depth and width. This assignment is not tied to any application, therefore it will be evaluated using test cases. The functions developed in this notebook will be used in the next assignment. Target is to build:\n",
        "\n",
        "\n",
        "*   A 2-layer NN\n",
        "*   A L-layer NN\n",
        "\n",
        "Effectively, I will be able to build and train a L-layer fully connected NN, entirely using Numpy.\n"
      ]
    },
    {
      "cell_type": "markdown",
      "metadata": {
        "id": "LhtzkYcq1tTK",
        "colab_type": "text"
      },
      "source": [
        "## Load dataset"
      ]
    },
    {
      "cell_type": "code",
      "metadata": {
        "id": "fIaDhxOC2PP1",
        "colab_type": "code",
        "outputId": "283f3e4f-4d99-4186-a9a8-fe5f8570ec2c",
        "colab": {
          "base_uri": "https://localhost:8080/",
          "height": 124
        }
      },
      "source": [
        "from google.colab import drive\n",
        "drive.mount('/content/drive')"
      ],
      "execution_count": 1,
      "outputs": [
        {
          "output_type": "stream",
          "text": [
            "Go to this URL in a browser: https://accounts.google.com/o/oauth2/auth?client_id=947318989803-6bn6qk8qdgf4n4g3pfee6491hc0brc4i.apps.googleusercontent.com&redirect_uri=urn%3aietf%3awg%3aoauth%3a2.0%3aoob&response_type=code&scope=email%20https%3a%2f%2fwww.googleapis.com%2fauth%2fdocs.test%20https%3a%2f%2fwww.googleapis.com%2fauth%2fdrive%20https%3a%2f%2fwww.googleapis.com%2fauth%2fdrive.photos.readonly%20https%3a%2f%2fwww.googleapis.com%2fauth%2fpeopleapi.readonly\n",
            "\n",
            "Enter your authorization code:\n",
            "··········\n",
            "Mounted at /content/drive\n"
          ],
          "name": "stdout"
        }
      ]
    },
    {
      "cell_type": "code",
      "metadata": {
        "id": "aySW51Gy2U9c",
        "colab_type": "code",
        "colab": {}
      },
      "source": [
        "import numpy as np # linear algebra\n",
        "import matplotlib.pyplot as plt # plotting\n",
        "import h5py # data loading for hdf5 dataset\n",
        "from PIL import Image # for loading your images for processing\n",
        "from scipy import ndimage \n",
        "import os\n"
      ],
      "execution_count": 0,
      "outputs": []
    },
    {
      "cell_type": "code",
      "metadata": {
        "id": "cDUVDlzM1wx4",
        "colab_type": "code",
        "colab": {}
      },
      "source": [
        "# implementing utility function for loading cat vs non-cat datasets\n",
        "def load_dataset():\n",
        "  train_dataset = h5py.File('datasets/train_catvnoncat.h5', \"r\")\n",
        "  test_dataset = h5py.File('datasets/test_catvnoncat.h5', \"r\")\n",
        "  train_set_x = np.array(train_dataset[\"train_set_x\"][:])\n",
        "  train_set_y = np.array(train_dataset[\"train_set_y\"][:])\n",
        "  test_set_x  = np.array(test_dataset[\"test_set_x\"][:])\n",
        "  test_set_y = np.array(test_dataset[\"test_set_y\"][:])\n",
        "  classes = np.array(train_dataset[\"list_classes\"][:])\n",
        "\n",
        "  # lets reshape the arrays\n",
        "  train_set_y = train_set_y.reshape((1, train_set_y.shape[0]))\n",
        "  test_set_y = test_set_y.reshape((1, test_set_y.shape[0]))\n",
        "\n",
        "  return train_set_x, train_set_y, test_set_x, test_set_y, classes"
      ],
      "execution_count": 0,
      "outputs": []
    },
    {
      "cell_type": "code",
      "metadata": {
        "id": "bOx2AdCg2Hz9",
        "colab_type": "code",
        "colab": {}
      },
      "source": [
        "# load training dataset\n",
        "x_train_images, y_train_images, x_test_images, y_test_images, classes = load_dataset()\n",
        "# x_train_images: (m, nx, ny, nc)\n",
        "# y_train_images: (1, m)"
      ],
      "execution_count": 0,
      "outputs": []
    },
    {
      "cell_type": "code",
      "metadata": {
        "id": "cDRKs1aj2JOZ",
        "colab_type": "code",
        "outputId": "b64aa483-cd92-4541-92e6-95a5460bbdc5",
        "colab": {
          "base_uri": "https://localhost:8080/",
          "height": 285
        }
      },
      "source": [
        "# lets inspect the dataset\n",
        "image_id = 25\n",
        "plt.imshow(x_train_images[image_id])\n",
        "print(\"y = \", y_train_images[0][image_id], \"Its a \" + classes[y_train_images[0][image_id]].decode(\"utf-8\") + \" picture!!\")"
      ],
      "execution_count": 9,
      "outputs": [
        {
          "output_type": "stream",
          "text": [
            "y =  1 Its a cat picture!!\n"
          ],
          "name": "stdout"
        },
        {
          "output_type": "display_data",
          "data": {
            "image/png": "[encoded data removed]",
            "text/plain": [
              "<Figure size 432x288 with 1 Axes>"
            ]
          },
          "metadata": {
            "tags": []
          }
        }
      ]
    },
    {
      "cell_type": "code",
      "metadata": {
        "id": "vNE_Gu3_2owh",
        "colab_type": "code",
        "outputId": "fe792ad4-48d8-4522-f8c5-f735e6edd9ad",
        "colab": {
          "base_uri": "https://localhost:8080/",
          "height": 104
        }
      },
      "source": [
        "# lets inspect the shapes of the dataset arrays\n",
        "print(\"Training set shape: \", x_train_images.shape) #  m, nx, ny, nc\n",
        "print(\"Training set labels shape: \", y_train_images.shape) # 1, m\n",
        "print(\"Test set shape: \", x_test_images.shape)\n",
        "print(\"Test set labels shape: \", y_test_images.shape)\n",
        "print(\"Each image is of shape: \", x_train_images[0].shape)"
      ],
      "execution_count": 10,
      "outputs": [
        {
          "output_type": "stream",
          "text": [
            "Training set shape:  (209, 64, 64, 3)\n",
            "Training set labels shape:  (1, 209)\n",
            "Test set shape:  (50, 64, 64, 3)\n",
            "Test set labels shape:  (1, 50)\n",
            "Each image is of shape:  (64, 64, 3)\n"
          ],
          "name": "stdout"
        }
      ]
    },
    {
      "cell_type": "code",
      "metadata": {
        "id": "Ttzc-UR52soz",
        "colab_type": "code",
        "outputId": "32c4e504-7477-4a10-fd1f-2add04fe517e",
        "colab": {
          "base_uri": "https://localhost:8080/",
          "height": 104
        }
      },
      "source": [
        "# Lets flatten the train and test image dataset for training\n",
        "x_train_images_flattened = x_train_images.reshape((x_train_images.shape[0], x_train_images.shape[1] * \n",
        "                                                   x_train_images.shape[2] * \n",
        "                                                   x_train_images.shape[3], 1)) \n",
        "x_train_images_flattened = np.squeeze(x_train_images_flattened)\n",
        "x_train_images_flattened = x_train_images_flattened.T\n",
        "x_test_images_flattened = x_test_images.reshape((x_test_images.shape[0], x_train_images.shape[1] * \n",
        "                                                 x_test_images.shape[2] * \n",
        "                                                 x_test_images.shape[3], 1))\n",
        "\n",
        "x_test_images_flattened = np.squeeze(x_test_images_flattened)\n",
        "x_test_images_flattened = x_test_images_flattened.T\n",
        "\n",
        "# lets print\n",
        "print(\"Flattened version of train images: \", x_train_images_flattened.shape)\n",
        "print(\"Label set for training dataset: \", y_train_images.shape)\n",
        "print(\"Flattened version of test images: \", x_test_images_flattened.shape)\n",
        "print(\"Label set for test dataset: \", y_test_images.shape)\n",
        "\n",
        "\n",
        "print(\"Sanity check after reshaping: \", x_train_images_flattened[0:5, 0])"
      ],
      "execution_count": 11,
      "outputs": [
        {
          "output_type": "stream",
          "text": [
            "Flattened version of train images:  (12288, 209)\n",
            "Label set for training dataset:  (1, 209)\n",
            "Flattened version of test images:  (12288, 50)\n",
            "Label set for test dataset:  (1, 50)\n",
            "Sanity check after reshaping:  [17 31 56 22 33]\n"
          ],
          "name": "stdout"
        }
      ]
    },
    {
      "cell_type": "code",
      "metadata": {
        "id": "2d91AXMk2tq8",
        "colab_type": "code",
        "colab": {}
      },
      "source": [
        "# normalization\n",
        "x_train_images = x_train_images_flattened / 255.0\n",
        "x_test_images = x_test_images_flattened / 255.0"
      ],
      "execution_count": 0,
      "outputs": []
    },
    {
      "cell_type": "code",
      "metadata": {
        "id": "74fPCkiWyCkI",
        "colab_type": "code",
        "colab": {}
      },
      "source": [
        "def sigmoid(z):\n",
        "  sig = 1 / (1 + np.exp(-z))\n",
        "  return sig"
      ],
      "execution_count": 0,
      "outputs": []
    },
    {
      "cell_type": "code",
      "metadata": {
        "id": "QOYV-4ivlzfb",
        "colab_type": "code",
        "colab": {}
      },
      "source": [
        "class TwoLayerNN(object):\n",
        "  def __init__(self, n_hidden_units):\n",
        "    # hyperparameters\n",
        "    self.n_hidden_units = n_hidden_units # len(self.n_hidden_units = number of layers)\n",
        "    self.n_epochs = 0\n",
        "    self.lr = 0\n",
        "    # parameters\n",
        "    self.w1 = 0\n",
        "    self.b1 = 0\n",
        "    self.w2 = 0\n",
        "    self.b2 = 0\n",
        "\n",
        "\n",
        "  def forward(self, X):\n",
        "    # layer 1\n",
        "    z1 = np.dot(self.w1, X) + self.b1\n",
        "    a1 = np.tanh(z1)\n",
        "    \n",
        "    # layer 2\n",
        "    z2 = np.dot(self.w2, a1) + self.b2\n",
        "    a2 = sigmoid(z2)\n",
        "\n",
        "    return a1, a2\n",
        "\n",
        "  def initialize_parameters(self, input_size):\n",
        "    self.w1 = np.random.randn(self.n_hidden_units[0], input_size) * 0.01\n",
        "    self.b1 = np.zeros((self.n_hidden_units[0], 1))\n",
        "    self.w2 = np.random.randn(self.n_hidden_units[1], self.n_hidden_units[0]) * 0.01\n",
        "    self.b2 = np.zeros((self.n_hidden_units[1], 1))\n",
        "    \n",
        "\n",
        "\n",
        "  def backward(self, A1, A2, X, Y):\n",
        "    '''\n",
        "    Notice that the only difference across layers lies in computation of dZ, \n",
        "    rest all can be parameterized on layer ID.\n",
        "    '''\n",
        "    m = X.shape[1]\n",
        "\n",
        "    dZ2 = A2 - Y # output layer\n",
        "    dw2 = np.dot(dZ2, A1.T) / m\n",
        "    db2 = np.mean(dZ2)\n",
        "    \n",
        "    dZ1 = np.dot(self.w2.T, dZ2) * (1 - np.power(A1, 2))\n",
        "    dw1 = np.dot(dZ1, X.T) / m\n",
        "    db1 = np.mean(dZ1)\n",
        "\n",
        "    return dw1, db1, dw2, db2\n",
        "\n",
        "  def update_parameters(self, dw1, db1, dw2, db2):\n",
        "    self.w1 = self.w1 - self.lr * dw1\n",
        "    self.b1 = self.b1 - self.lr * db1\n",
        "    self.w2 = self.w2 - self.lr * dw2\n",
        "    self.b2 = self.b2 - self.lr * db2\n",
        "\n",
        "\n",
        "  def compute_cost(self, A, Y):\n",
        "    cost = -float((np.dot(Y, np.log(A).T) + np.dot(1-Y, np.log(1-A).T))) / Y.shape[1]  \n",
        "    return cost\n",
        "  \n",
        "  def train(self, X, Y, lr = 0.001, n_epochs = 1000):\n",
        "    self.initialize_parameters(X.shape[0]) \n",
        "    self.lr = lr\n",
        "    self.n_epochs = n_epochs\n",
        "\n",
        "    for i in range(n_epochs):\n",
        "      A1, A2  = self.forward(X)\n",
        "      dw1, db1, dw2, db2 = self.backward(A1, A2, X, Y)     \n",
        "      self.update_parameters(dw1, db1, dw2, db2)\n",
        "      cost = self.compute_cost(A2, Y)\n",
        "      if (i % 100 == 0):\n",
        "        print(\"Cost at epoch: \", i, \"is: \", cost)\n",
        "    # save final parameters\n",
        "    try:  \n",
        "      os.mkdir(\"params\")  \n",
        "    except OSError as error:  \n",
        "      print(error)   \n",
        "    np.save(\"params/w1.npy\", self.w1)    \n",
        "    np.save(\"params/b1.npy\", self.b1)\n",
        "    np.save(\"params/w2.npy\", self.w2)\n",
        "    np.save(\"params/b2.npy\", self.b2)\n",
        "\n",
        "  def evaluate(self, X_test, Y_test):\n",
        "    self.w1 = np.load(\"params/w1.npy\")         \n",
        "    self.b1 = np.load(\"params/b1.npy\")\n",
        "    self.w2 = np.load(\"params/w2.npy\")\n",
        "    self.b2 = np.load(\"params/b2.npy\")\n",
        "\n",
        "    _, A_predict = self.forward(X_test)\n",
        "\n",
        "    Y_predict = (A_predict > 0.5)\n",
        "    accuracy = 100 * float(np.dot(Y_test, Y_predict.T) + \n",
        "                           np.dot(1-Y_test, (1-Y_predict).T)) / Y_test.shape[1]\n",
        "    print(\"Accuracy of trained model: \", accuracy)              \n",
        "   "
      ],
      "execution_count": 0,
      "outputs": []
    },
    {
      "cell_type": "code",
      "metadata": {
        "id": "UsLDWSlcowUr",
        "colab_type": "code",
        "colab": {}
      },
      "source": [
        "twoNN = TwoLayerNN(n_hidden_units = [7, 1])"
      ],
      "execution_count": 0,
      "outputs": []
    },
    {
      "cell_type": "code",
      "metadata": {
        "id": "-JSuAEWMo04O",
        "colab_type": "code",
        "outputId": "37967d40-0fc1-4c24-b810-50faaa8e6366",
        "colab": {
          "base_uri": "https://localhost:8080/",
          "height": 464
        }
      },
      "source": [
        "twoNN.train(x_train_images, y_train_images, lr = 0.0075, n_epochs = 2500)"
      ],
      "execution_count": 0,
      "outputs": [
        {
          "output_type": "stream",
          "text": [
            "Cost at epoch:  0 is:  0.6944652964380373\n",
            "Cost at epoch:  100 is:  0.6535740699048482\n",
            "Cost at epoch:  200 is:  0.644585648110276\n",
            "Cost at epoch:  300 is:  0.6369539891521059\n",
            "Cost at epoch:  400 is:  0.6193941733740294\n",
            "Cost at epoch:  500 is:  0.5856055832300676\n",
            "Cost at epoch:  600 is:  0.5416305033255572\n",
            "Cost at epoch:  700 is:  0.4904916360353779\n",
            "Cost at epoch:  800 is:  0.43479541889555573\n",
            "Cost at epoch:  900 is:  0.37815374380125166\n",
            "Cost at epoch:  1000 is:  0.3883964006466481\n",
            "Cost at epoch:  1100 is:  0.33846008312960774\n",
            "Cost at epoch:  1200 is:  0.2960736627136682\n",
            "Cost at epoch:  1300 is:  0.2595824882182009\n",
            "Cost at epoch:  1400 is:  0.22612975182921155\n",
            "Cost at epoch:  1500 is:  0.1933900891321214\n",
            "Cost at epoch:  1600 is:  0.16230566592628967\n",
            "Cost at epoch:  1700 is:  0.1336292055148765\n",
            "Cost at epoch:  1800 is:  0.11300452633516252\n",
            "Cost at epoch:  1900 is:  0.0984541377617943\n",
            "Cost at epoch:  2000 is:  0.08745294356626766\n",
            "Cost at epoch:  2100 is:  0.07773048470495805\n",
            "Cost at epoch:  2200 is:  0.06946321153775063\n",
            "Cost at epoch:  2300 is:  0.062578363099118\n",
            "Cost at epoch:  2400 is:  0.05673108106684982\n"
          ],
          "name": "stdout"
        }
      ]
    },
    {
      "cell_type": "code",
      "metadata": {
        "id": "hKsvpg67o2we",
        "colab_type": "code",
        "outputId": "fa90b6a7-ab11-4846-fe03-4f4ba5a74e50",
        "colab": {
          "base_uri": "https://localhost:8080/",
          "height": 35
        }
      },
      "source": [
        "# train accuracy\n",
        "twoNN.evaluate(x_train_images, y_train_images)"
      ],
      "execution_count": 0,
      "outputs": [
        {
          "output_type": "stream",
          "text": [
            "Accuracy of trained model:  100.0\n"
          ],
          "name": "stdout"
        }
      ]
    },
    {
      "cell_type": "code",
      "metadata": {
        "id": "hzh7jdQ8_r74",
        "colab_type": "code",
        "outputId": "b4efaca6-6248-42c0-c9d7-3267bd1e80ce",
        "colab": {
          "base_uri": "https://localhost:8080/",
          "height": 35
        }
      },
      "source": [
        "# test accuracy\n",
        "twoNN.evaluate(x_test_images, y_test_images)"
      ],
      "execution_count": 0,
      "outputs": [
        {
          "output_type": "stream",
          "text": [
            "Accuracy of trained model:  70.0\n"
          ],
          "name": "stdout"
        }
      ]
    },
    {
      "cell_type": "markdown",
      "metadata": {
        "id": "gBGjDbJH0bOe",
        "colab_type": "text"
      },
      "source": [
        "## Generalizing to L-layer NN\n",
        "Now we want to generalize the above 2-layer NN to a L-layer NN, the interface should be such that:\n",
        "\n",
        "* For L=2 and keeping other hyper-parameters same, we should be able to reproduce  the results obtained above. In other words, training a `LLayerNN(n_hidden_units = [7, 1])` network as `lllayerNN.train(x_train_images, y_train_images, lr = 0.0075, n_epochs = 2500)` should result in $72\\%$ test and $100\\%$ train accuracy.\n",
        "*   NN should be implemented by stacking layer along both forward and backward directions:\n",
        "  * forward:  \n",
        "      * Layers:\n",
        "        * hidden layers with tanh/relu activation\n",
        "        * output layer with sigmoid activation\n",
        "      * Input:\n",
        "        * activation from last layer\n",
        "        * weight(and bias) matrix for current layer\n",
        "      * Output:\n",
        "        * activation from current layer        \n",
        "  * backward:\n",
        "      * Layers:\n",
        "        * hidden backward propogation layer\n",
        "        * output bacwkard propogation layer\n",
        "      * Input:\n",
        "        * activation from successive layer\n",
        "        * weight metrix from successive layer\n",
        "        * gradients from successive layer\n",
        "      * Output:\n",
        "        * gradients for current layer, $dw$, $db$ and $dz$.        "
      ]
    },
    {
      "cell_type": "code",
      "metadata": {
        "id": "RSRgvnZM0hJw",
        "colab_type": "code",
        "colab": {}
      },
      "source": [
        "# Assumes a binary problem.\n",
        "class LLayerNN(object):\n",
        "  def __init__(self, n_hidden_units):\n",
        "    self.w = [] # (n_hidden_layers + 1)\n",
        "    self.b = [] \n",
        "    self.dw = [] # same as w\n",
        "    self.db = []\n",
        "    self.dz = []\n",
        "    self.a = [] # (n_hidden_layers + 1)\n",
        "    self.lr = 0\n",
        "    self.n_hidden_units = n_hidden_units #total number of layers, n_hidden_units + 1\n",
        "    \n",
        "  def initialize_parameters(self, input_size):\n",
        "    # w[0], b[0]\n",
        "    self.w.append(np.random.rand(self.n_hidden_units[0], input_size) * 0.01)\n",
        "    self.b.append(np.zeros((self.n_hidden_units[0], 1)))\n",
        "    # w[1] to w[n_hidden_layers - 1]\n",
        "    n_hidden_layers = len(self.n_hidden_units)\n",
        "    for i in range(1,  n_hidden_layers): \n",
        "    #(1 for last hidden layer, 1 for output layer)                                         \n",
        "      self.w.append(np.random.randn(self.n_hidden_units[i], \n",
        "                                  self.n_hidden_units[i-1]) * 0.01)\n",
        "      self.b.append(np.zeros((self.n_hidden_units[i], 1)))\n",
        "    # output layer, assuming binary classification\n",
        "    self.w.append(np.random.rand(1, self.n_hidden_units[n_hidden_layers - 1]) * 0.01)\n",
        "    self.b.append(np.zeros((1, 1)))   \n",
        "    \n",
        "    \n",
        "\n",
        "  def forward_propogation(self, layer_id, activation = None):\n",
        "    \n",
        "    z = np.dot(self.w[layer_id], self.a[layer_id - 1]) + self.b[layer_id]      \n",
        "\n",
        "    if (activation == 'tanh'):\n",
        "      self.a.append(np.tanh(z))\n",
        "    if (activation == 'relu'):\n",
        "      self.a.append(np.maximum(0, z))      \n",
        "    if (activation == 'sigmoid'):    \n",
        "      self.a.append(sigmoid(z))\n",
        "\n",
        "  def backward_propogation(self, X, layer_id, activation = None):\n",
        "    \n",
        "    if activation == 'tanh':\n",
        "      da_dz = (1 - np.power(self.a[layer_id], 2))\n",
        "    if activation == 'relu':\n",
        "      da_dz = None #TODO     \n",
        "    # No need of da_dz when activation is sigmoid, dz[0] is actually linear activation from output layer :( \n",
        "    self.dz.append(np.dot(self.w[layer_id+1].T, self.dz[len(self.n_hidden_units) - layer_id - 1]) * da_dz)       \n",
        "    if (layer_id > 0):\n",
        "      self.dw.append(np.dot(self.dz[len(self.n_hidden_units)  - layer_id], self.a[layer_id - 1].T) / X.shape[1])\n",
        "    else:\n",
        "      self.dw.append(np.dot(self.dz[len(self.n_hidden_units)  - layer_id], X.T) / X.shape[1])              \n",
        "    self.db.append(np.mean(self.dz[len(self.n_hidden_units)  - layer_id]))      \n",
        "    \n",
        "\n",
        "  def update_parameters(self, layer_id):\n",
        "    \n",
        "    #t = self.w[layer_id]\n",
        "    self.w[layer_id] = self.w[layer_id] - self.lr * self.dw[len(self.n_hidden_units) - layer_id]\n",
        "    self.b[layer_id] = self.b[layer_id] - self.lr * self.db[len(self.n_hidden_units)  - layer_id]\n",
        "    #print(\"ids: \", layer_id, len(self.n_hidden_units) - layer_id)\n",
        "\n",
        "  def compute_cost(self, Y):\n",
        "    last_layer_id = len(self.n_hidden_units)\n",
        "    cost = -float(np.dot(Y, np.log(self.a[last_layer_id]).T) + np.dot(1 - Y, np.log(1 - self.a[last_layer_id]).T)) / Y.shape[1] #averaged over all samples\n",
        "    return cost  \n",
        "\n",
        "  def train(self, X, Y, learning_rate = 0.001, n_epochs = 1000):\n",
        "      \n",
        "    self.initialize_parameters(X.shape[0]) # initializes parameters for all layers.\n",
        "      \n",
        "    self.lr = learning_rate\n",
        "    n_hidden_layers = len(self.n_hidden_units)\n",
        "      \n",
        "    for i in range(n_epochs):\n",
        "      z = np.dot(self.w[0], X) + self.b[0] # should not be like this :(\n",
        "      self.a.append(np.tanh(z)) \n",
        "      for l in range(1, n_hidden_layers):\n",
        "        self.forward_propogation(l, activation = 'tanh')\n",
        "      # for output layer\n",
        "      self.forward_propogation(n_hidden_layers, activation = 'sigmoid')   \n",
        "      \n",
        "      # backprop for the output layer\n",
        "      self.dz.append(self.a[n_hidden_layers] - Y) # assuming sigmoid activation\n",
        "      self.dw.append(np.dot(self.dz[0], self.a[n_hidden_layers - 1].T) / X.shape[1])\n",
        "      self.db.append(np.mean(self.dz[0]))\n",
        "\n",
        "      for l in range(n_hidden_layers  - 1 , -1, -1):\n",
        "        self.backward_propogation(X, l, activation = 'tanh') \n",
        "      \n",
        "      for l in range(n_hidden_layers + 1):\n",
        "        self.update_parameters(l)  \n",
        "      cost = self.compute_cost(Y) # ends the epoch\n",
        "      if (i % 1000 == 0):\n",
        "        print(\"Cost at epoch: \", i, \"is: \", cost)"
      ],
      "execution_count": 0,
      "outputs": []
    },
    {
      "cell_type": "code",
      "metadata": {
        "id": "DQ3hBkSFEoS-",
        "colab_type": "code",
        "colab": {}
      },
      "source": [
        "llayernn = LLayerNN(n_hidden_units = [20, 7, 5]) # 3 hidden layers"
      ],
      "execution_count": 0,
      "outputs": []
    },
    {
      "cell_type": "code",
      "metadata": {
        "id": "xuNqITSnErnG",
        "colab_type": "code",
        "colab": {}
      },
      "source": [
        "llayernn.train(x_train_images, y_train_images, learning_rate = 0.0075, n_epochs = 3000)"
      ],
      "execution_count": 0,
      "outputs": []
    },
    {
      "cell_type": "markdown",
      "metadata": {
        "id": "1hIl4vX91YvM",
        "colab_type": "text"
      },
      "source": [
        "## Implementation based on dictionary\n",
        "In the above implmentation, parameters are shared as global attributes of `LLayerNN` class. The implementation gets messy because `dz, dw` gets calculated in reverse order with respect to `a`, hence maintaining them in lists results in indexing chaos.  \n",
        "In the following implementation of`LLayerNN` class we will share the parameters of the network using `dicts`, or the string-key based dictionary of parameters, similar to Coursera code."
      ]
    },
    {
      "cell_type": "code",
      "metadata": {
        "id": "tirR0G_J2Rad",
        "colab_type": "code",
        "colab": {}
      },
      "source": [
        "class LLayerNN(object):\n",
        "  def __init__(self, n_hidden_units):\n",
        "    self.parameters = {}\n",
        "    self.n_hidden_units = n_hidden_units\n",
        "    self.n_layers = len(self.n_hidden_units) + 1\n",
        "    self.lr = -1\n",
        "\n",
        "\n",
        "  def initialize_parameters(self, input_size):\n",
        "    self.parameters[\"w0\"] = np.random.randn(self.n_hidden_units[0],\n",
        "                                       input_size) * 0.01\n",
        "    self.parameters[\"b0\"] = np.zeros((self.n_hidden_units[0], 1))                                       \n",
        "    for i in range(1, self.n_layers - 1):\n",
        "      self.parameters[\"w\" + str(i)] = np.random.randn(self.n_hidden_units[i],\n",
        "                                            self.n_hidden_units[i - 1]) * 0.01\n",
        "      self.parameters[\"b\" + str(i)] = np.zeros((self.n_hidden_units[i], 1))\n",
        "    self.parameters[\"w\" + str(self.n_layers - 1)] = np.random.randn(1,\n",
        "                                 self.n_hidden_units[self.n_layers - 2]) * 0.01\n",
        "    self.parameters[\"b\" + str(self.n_layers - 1)] = np.zeros((1, 1))                                                                                         \n",
        "      \n",
        "\n",
        "  def forward(self, layer_id, X, activation = None):\n",
        "    # linear block\n",
        "    if (layer_id > 0):\n",
        "      z = np.dot(self.parameters[\"w\" + str(layer_id)], \n",
        "      self.parameters[\"a\" + str(layer - 1)]) + self.parameters[\"b\" + str(layer_id)]\n",
        "    else:\n",
        "      z = np.dot(self.parameters[\"w\" + str(layer_id)], \n",
        "                 X) + self.parameters[\"b\" + str(layer_id)]\n",
        "\n",
        "    # activation block \n",
        "    if (activation == 'tanh'):\n",
        "      self.parameters[\"a\" + str(layer_id)] = np.tanh(z)\n",
        "    if (activation == 'relu'):\n",
        "      self.parameters[\"a\" + str(layer_id)] = np.maximum(0, z)      \n",
        "    if (activation == 'sigmoid'):\n",
        "      self.parameters['a' + str(layer_id)] = sigmoid(z)  \n",
        "    \n",
        "\n",
        "  def backward(self, layer_id, X, Y, activation = None):\n",
        "    # activation block\n",
        "    if (activation == 'sigmoid'):\n",
        "      self.parameters[\"dz\" + str(layer_id)] = self.parameters[\"a\" + str(layer_id)] - Y\n",
        "    if (activation == 'relu'):\n",
        "      da_dz = [1 if (self.parameters[\"a\" + str(layer_id)] > 0) else 0] \n",
        "      assert(da_dz.shape == self.parameters[\"a\" + str(layer_id)].shape)\n",
        "      self.parameters[\"dz\" + str(layer_id)] = np.dot(self.parameters[\"w\" + str(layer_id + 1)].T, self.parameters[\"dz\" + str(layer_id + 1)]) * da_dz\n",
        "    if (activation == 'tanh'):\n",
        "      da_dz = 1 - np.power(self.parameters[\"a\" + str(layer_id)], 2)\n",
        "      self.parameters[\"dz\" + str(layer_id)] = np.dot(self.parameters[\"w\" + str(layer_id + 1)].T, self.parameters[\"dz\" + str(layer_id + 1)]) * da_dz\n",
        "      \n",
        "    #linear block\n",
        "    if(layer_id > 0):\n",
        "      self.parameters[\"dw\" + str(layer_id)] = np.dot(self.parameters[\"dz\" + str(layer_id)], \n",
        "                                                   self.parameters[\"a\" + str(layer_id - 1)])\n",
        "    else:\n",
        "      self.parameters[\"dw0\"] = np.dot(self.parameters[\"dz\" + str(layer_id)], \n",
        "                                                   X)\n",
        "    self.parameters[\"db\" + str(layer_id)] = np.mean(self.parameters[\"dz\" + str(layer_id)])\n",
        "  \n",
        "\n",
        "  def update_parameters(self, layer_id):\n",
        "    self.parameters[\"w\" + str(layer_id)] = self.parameters[\"w\" + str(layer_id)] + self.lr * self.parameters[\"dw\" + str(layer_id)]\n",
        "\n",
        "    self.parameters[\"b\" + str(layer_id)] = self.parameters[\"b\" + str(layer_id)] + self.lr * self.parameters[\"db\" + str(layer_id)]\n",
        "\n",
        "\n",
        "  def compute_cost(self, Y):\n",
        "    cost = -float((np.dot(Y, np.log(self.parameters[\"a\" + str(self.n_layers)]).T) + np.dot(1 - Y, np.log(1 - self.parameters[\"a\" + str(self.n_layers)]).T))) / Y.shape[1]                \n",
        "\n",
        "\n",
        "  def train(self, X, Y, learning_rate = 0.001, n_epochs = 3000):\n",
        "    self.initialize_parameters(X.shape[0])\n",
        "    self.lr = learning_rate\n",
        "    for i in range(n_epochs):\n",
        "      # forward\n",
        "      for l in range(self.n_layers):\n",
        "        if (l == self.n_layers - 1):\n",
        "          self.forward(l,X, activation='sigmoid')\n",
        "        else:  \n",
        "          self.forward(l,X, activation='relu')\n",
        "      # backward\n",
        "      for l in range(self.n_layers - 1, -1, -1):\n",
        "        self.backward(l, X, Y)\n",
        "        self.update_parameters(l)\n",
        "      cost = self.compute_cost(Y)\n",
        "      if (i % 1000 == 0):\n",
        "        print(\"Cost at epoch: \", i, \"is: \", cost)  "
      ],
      "execution_count": 0,
      "outputs": []
    },
    {
      "cell_type": "code",
      "metadata": {
        "id": "YkAVJgR22rzn",
        "colab_type": "code",
        "colab": {}
      },
      "source": [
        "llayernn = LLayerNN(n_hidden_units = [20, 7, 5]) # 3 hidden layers"
      ],
      "execution_count": 0,
      "outputs": []
    },
    {
      "cell_type": "code",
      "metadata": {
        "id": "2u5L19ii2wGb",
        "colab_type": "code",
        "colab": {
          "base_uri": "https://localhost:8080/",
          "height": 485
        },
        "outputId": "8a966acf-982f-45e6-8569-b5451784678d"
      },
      "source": [
        "llayernn.train(x_train_images, y_train_images, learning_rate = 0.0075, \n",
        "               n_epochs = 3000)"
      ],
      "execution_count": 41,
      "outputs": [
        {
          "output_type": "error",
          "ename": "ValueError",
          "evalue": "ignored",
          "traceback": [
            "\u001b[0;31m---------------------------------------------------------------------------\u001b[0m",
            "\u001b[0;31mValueError\u001b[0m                                Traceback (most recent call last)",
            "\u001b[0;32m<ipython-input-41-70d4cae70f76>\u001b[0m in \u001b[0;36m<module>\u001b[0;34m()\u001b[0m\n\u001b[1;32m      1\u001b[0m llayernn.train(x_train_images, y_train_images, learning_rate = 0.0075, \n\u001b[0;32m----> 2\u001b[0;31m                n_epochs = 3000)\n\u001b[0m",
            "\u001b[0;32m<ipython-input-39-c7f545b44a17>\u001b[0m in \u001b[0;36mtrain\u001b[0;34m(self, X, Y, learning_rate, n_epochs)\u001b[0m\n\u001b[1;32m     79\u001b[0m           \u001b[0mself\u001b[0m\u001b[0;34m.\u001b[0m\u001b[0mforward\u001b[0m\u001b[0;34m(\u001b[0m\u001b[0ml\u001b[0m\u001b[0;34m,\u001b[0m\u001b[0mX\u001b[0m\u001b[0;34m,\u001b[0m \u001b[0mactivation\u001b[0m\u001b[0;34m=\u001b[0m\u001b[0;34m'sigmoid'\u001b[0m\u001b[0;34m)\u001b[0m\u001b[0;34m\u001b[0m\u001b[0;34m\u001b[0m\u001b[0m\n\u001b[1;32m     80\u001b[0m         \u001b[0;32melse\u001b[0m\u001b[0;34m:\u001b[0m\u001b[0;34m\u001b[0m\u001b[0;34m\u001b[0m\u001b[0m\n\u001b[0;32m---> 81\u001b[0;31m           \u001b[0mself\u001b[0m\u001b[0;34m.\u001b[0m\u001b[0mforward\u001b[0m\u001b[0;34m(\u001b[0m\u001b[0ml\u001b[0m\u001b[0;34m,\u001b[0m\u001b[0mX\u001b[0m\u001b[0;34m,\u001b[0m \u001b[0mactivation\u001b[0m\u001b[0;34m=\u001b[0m\u001b[0;34m'relu'\u001b[0m\u001b[0;34m)\u001b[0m\u001b[0;34m\u001b[0m\u001b[0;34m\u001b[0m\u001b[0m\n\u001b[0m\u001b[1;32m     82\u001b[0m       \u001b[0;31m# backward\u001b[0m\u001b[0;34m\u001b[0m\u001b[0;34m\u001b[0m\u001b[0;34m\u001b[0m\u001b[0m\n\u001b[1;32m     83\u001b[0m       \u001b[0;32mfor\u001b[0m \u001b[0ml\u001b[0m \u001b[0;32min\u001b[0m \u001b[0mrange\u001b[0m\u001b[0;34m(\u001b[0m\u001b[0mself\u001b[0m\u001b[0;34m.\u001b[0m\u001b[0mn_layers\u001b[0m \u001b[0;34m-\u001b[0m \u001b[0;36m1\u001b[0m\u001b[0;34m,\u001b[0m \u001b[0;34m-\u001b[0m\u001b[0;36m1\u001b[0m\u001b[0;34m,\u001b[0m \u001b[0;34m-\u001b[0m\u001b[0;36m1\u001b[0m\u001b[0;34m)\u001b[0m\u001b[0;34m:\u001b[0m\u001b[0;34m\u001b[0m\u001b[0;34m\u001b[0m\u001b[0m\n",
            "\u001b[0;32m<ipython-input-39-c7f545b44a17>\u001b[0m in \u001b[0;36mforward\u001b[0;34m(self, layer_id, X, activation)\u001b[0m\n\u001b[1;32m     27\u001b[0m     \u001b[0;32melse\u001b[0m\u001b[0;34m:\u001b[0m\u001b[0;34m\u001b[0m\u001b[0;34m\u001b[0m\u001b[0m\n\u001b[1;32m     28\u001b[0m       z = np.dot(self.parameters[\"w\" + str(layer_id)], \n\u001b[0;32m---> 29\u001b[0;31m                  X) + self.parameters[\"b\" + str(layer_id)]\n\u001b[0m\u001b[1;32m     30\u001b[0m \u001b[0;34m\u001b[0m\u001b[0m\n\u001b[1;32m     31\u001b[0m     \u001b[0;31m# activation block\u001b[0m\u001b[0;34m\u001b[0m\u001b[0;34m\u001b[0m\u001b[0;34m\u001b[0m\u001b[0m\n",
            "\u001b[0;32m<__array_function__ internals>\u001b[0m in \u001b[0;36mdot\u001b[0;34m(*args, **kwargs)\u001b[0m\n",
            "\u001b[0;31mValueError\u001b[0m: shapes (20,209) and (12288,209) not aligned: 209 (dim 1) != 12288 (dim 0)"
          ]
        }
      ]
    }
  ]
}